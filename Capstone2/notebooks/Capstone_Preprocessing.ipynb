{
 "cells": [
  {
   "cell_type": "code",
   "execution_count": 1,
   "id": "a10b475e",
   "metadata": {},
   "outputs": [],
   "source": [
    "import os\n",
    "import pandas as pd\n",
    "import numpy as np\n",
    "import matplotlib.pyplot as plt\n",
    "import seaborn as sns\n",
    "from sklearn.decomposition import PCA\n",
    "from sklearn.preprocessing import scale\n",
    "from sklearn.preprocessing import PowerTransformer\n",
    "from sklearn.preprocessing import StandardScaler\n",
    "from sklearn.model_selection import train_test_split\n",
    "from scipy import stats\n",
    "\n",
    "from IPython.display import display\n",
    "\n",
    "np.random.seed(42)\n",
    "pd.options.display.max_columns = None\n",
    "emp_data = pd.read_csv('../data/interim/emp_data_post_EDA.tsv',sep='\\t')"
   ]
  },
  {
   "cell_type": "code",
   "execution_count": 2,
   "id": "13256b7a",
   "metadata": {},
   "outputs": [
    {
     "name": "stdout",
     "output_type": "stream",
     "text": [
      "<class 'pandas.core.frame.DataFrame'>\n",
      "RangeIndex: 1470 entries, 0 to 1469\n",
      "Data columns (total 30 columns):\n",
      " #   Column                    Non-Null Count  Dtype  \n",
      "---  ------                    --------------  -----  \n",
      " 0   EmployeeNumber            1470 non-null   int64  \n",
      " 1   Age                       1470 non-null   int64  \n",
      " 2   Attrition                 1470 non-null   int64  \n",
      " 3   BusinessTravel            1470 non-null   object \n",
      " 4   Department                1470 non-null   object \n",
      " 5   DistanceFromHome          1470 non-null   int64  \n",
      " 6   Education                 1470 non-null   int64  \n",
      " 7   EducationField            1470 non-null   object \n",
      " 8   EnvironmentSatisfaction   1470 non-null   int64  \n",
      " 9   Gender                    1470 non-null   object \n",
      " 10  JobInvolvement            1470 non-null   int64  \n",
      " 11  JobLevel                  1470 non-null   int64  \n",
      " 12  JobRole                   1470 non-null   object \n",
      " 13  JobSatisfaction           1470 non-null   int64  \n",
      " 14  MaritalStatus             1470 non-null   object \n",
      " 15  MonthlyIncome             1470 non-null   int64  \n",
      " 16  NumCompaniesWorked        1470 non-null   int64  \n",
      " 17  OverTime                  1470 non-null   object \n",
      " 18  PercentSalaryHike         1470 non-null   int64  \n",
      " 19  PerformanceRating         1470 non-null   int64  \n",
      " 20  RelationshipSatisfaction  1470 non-null   int64  \n",
      " 21  StockOptionLevel          1470 non-null   int64  \n",
      " 22  TotalWorkingYears         1470 non-null   int64  \n",
      " 23  TrainingTimesLastYear     1470 non-null   int64  \n",
      " 24  WorkLifeBalance           1470 non-null   int64  \n",
      " 25  YearsAtCompany            1470 non-null   int64  \n",
      " 26  YearsInCurrentRole        1470 non-null   int64  \n",
      " 27  YearsSinceLastPromotion   1470 non-null   int64  \n",
      " 28  YearsWithCurrManager      1470 non-null   int64  \n",
      " 29  RatioToMedianPay          1470 non-null   float64\n",
      "dtypes: float64(1), int64(22), object(7)\n",
      "memory usage: 344.7+ KB\n",
      "None\n"
     ]
    }
   ],
   "source": [
    "print(emp_data.info())"
   ]
  },
  {
   "cell_type": "markdown",
   "id": "28a282b5",
   "metadata": {},
   "source": [
    "Part 1: Drop certain columns based on EDA:\n",
    "\n",
    "-- Drop Stock Option Level because of unintuitive non-linear relationship exhibited in EDA. Attrition rates are higher for the lowest and highest stock option levels, and lower for the middle two levels.  This may be due to confounding factors such as the employee's department (e.g., they may work in a more dynamic talent market where equity compensation and turnover are both more common) or their general performance and marketability (e.g., high performing executives that are in greater demand externally). Therefore I don't see value in including this feature as a predictor, as the real drivers of attrition should lie in other features.\n",
    "\n",
    "-- Drop Job Level because it is highly correlated with monthly income but less desirable as a predictor since it has discrete values."
   ]
  },
  {
   "cell_type": "code",
   "execution_count": 3,
   "id": "e81cf0e4",
   "metadata": {},
   "outputs": [],
   "source": [
    "#Drop columns\n",
    "emp_data.drop(columns=['JobLevel','StockOptionLevel'],inplace=True)"
   ]
  },
  {
   "cell_type": "markdown",
   "id": "4cfe286b",
   "metadata": {},
   "source": [
    "Part 2: convert education column values to brief string descriptors to make them categorical and enhance interpretability. Other numeric categoricals are ordinal and will be dealt with in the next part"
   ]
  },
  {
   "cell_type": "code",
   "execution_count": 4,
   "id": "bc3333cc",
   "metadata": {},
   "outputs": [],
   "source": [
    "emp_data.replace({'Education':{1:'<College',2:'College',3:'Bachelor',4:'Master',5:'Doctor'}},inplace=True)"
   ]
  },
  {
   "cell_type": "markdown",
   "id": "db9bcc59",
   "metadata": {},
   "source": [
    "Part 3: encode ordinal categoricals. Based on EDA, certain ordinal categoricals appear to exhibit a linear or near-linear relationship with attrition probability -- these will be left alone -- while others exhibit a materially higher attrition rate for the lowest value but have essentially similar attrition rates for other values -- these will be binary encoded with a 0 for the lowest value and a 1 for all other values.\n",
    "\n",
    "Performance rating only had two values, so I will transform this column to be 0 for a rating of 3 and 1 for a rating of 4."
   ]
  },
  {
   "cell_type": "code",
   "execution_count": 5,
   "id": "c1504956",
   "metadata": {},
   "outputs": [],
   "source": [
    "#Re-encode the ordinals that can be represented as binary\n",
    "to_binary = ['EnvironmentSatisfaction','RelationshipSatisfaction','TrainingTimesLastYear','WorkLifeBalance']\n",
    "for c in to_binary:\n",
    "    emp_data[c]=(emp_data[c]>min(emp_data[c])).astype('int')"
   ]
  },
  {
   "cell_type": "code",
   "execution_count": 6,
   "id": "90eab4be",
   "metadata": {},
   "outputs": [],
   "source": [
    "#Re-map performance rating from 3 and 4 to 0 and 1\n",
    "emp_data['PerformanceRating']=emp_data['PerformanceRating']-3"
   ]
  },
  {
   "cell_type": "markdown",
   "id": "6959ec45",
   "metadata": {},
   "source": [
    "Part 4: dummy encode the nominal categoricals"
   ]
  },
  {
   "cell_type": "code",
   "execution_count": 7,
   "id": "670c38f1",
   "metadata": {},
   "outputs": [
    {
     "name": "stdout",
     "output_type": "stream",
     "text": [
      "Index(['BusinessTravel', 'Department', 'Education', 'EducationField', 'Gender',\n",
      "       'JobRole', 'MaritalStatus', 'OverTime'],\n",
      "      dtype='object')\n"
     ]
    }
   ],
   "source": [
    "nominals=emp_data.select_dtypes(include='object').columns\n",
    "print(nominals)"
   ]
  },
  {
   "cell_type": "code",
   "execution_count": 8,
   "id": "a9429745",
   "metadata": {},
   "outputs": [
    {
     "name": "stdout",
     "output_type": "stream",
     "text": [
      "                Age  Attrition  DistanceFromHome  EnvironmentSatisfaction  \\\n",
      "EmployeeNumber                                                              \n",
      "1                41          1                 1                        1   \n",
      "2                49          0                 8                        1   \n",
      "4                37          1                 2                        1   \n",
      "5                33          0                 3                        1   \n",
      "7                27          0                 2                        0   \n",
      "\n",
      "                JobInvolvement  JobSatisfaction  MonthlyIncome  \\\n",
      "EmployeeNumber                                                   \n",
      "1                            3                4           5993   \n",
      "2                            2                2           5130   \n",
      "4                            2                3           2090   \n",
      "5                            3                3           2909   \n",
      "7                            3                2           3468   \n",
      "\n",
      "                NumCompaniesWorked  PercentSalaryHike  PerformanceRating  \\\n",
      "EmployeeNumber                                                             \n",
      "1                                8                 11                  0   \n",
      "2                                1                 23                  1   \n",
      "4                                6                 15                  0   \n",
      "5                                1                 11                  0   \n",
      "7                                9                 12                  0   \n",
      "\n",
      "                RelationshipSatisfaction  TotalWorkingYears  \\\n",
      "EmployeeNumber                                                \n",
      "1                                      0                  8   \n",
      "2                                      1                 10   \n",
      "4                                      1                  7   \n",
      "5                                      1                  8   \n",
      "7                                      1                  6   \n",
      "\n",
      "                TrainingTimesLastYear  WorkLifeBalance  YearsAtCompany  \\\n",
      "EmployeeNumber                                                           \n",
      "1                                   0                0               6   \n",
      "2                                   1                1              10   \n",
      "4                                   1                1               0   \n",
      "5                                   1                1               8   \n",
      "7                                   1                1               2   \n",
      "\n",
      "                YearsInCurrentRole  YearsSinceLastPromotion  \\\n",
      "EmployeeNumber                                                \n",
      "1                                4                        0   \n",
      "2                                7                        1   \n",
      "4                                0                        0   \n",
      "5                                7                        3   \n",
      "7                                2                        2   \n",
      "\n",
      "                YearsWithCurrManager  RatioToMedianPay  \\\n",
      "EmployeeNumber                                           \n",
      "1                                  5          1.098827   \n",
      "2                                  7          1.053604   \n",
      "4                                  0          0.776519   \n",
      "5                                  0          1.079807   \n",
      "7                                  2          1.288501   \n",
      "\n",
      "                BusinessTravel_Travel_Frequently  \\\n",
      "EmployeeNumber                                     \n",
      "1                                              0   \n",
      "2                                              1   \n",
      "4                                              0   \n",
      "5                                              1   \n",
      "7                                              0   \n",
      "\n",
      "                BusinessTravel_Travel_Rarely  \\\n",
      "EmployeeNumber                                 \n",
      "1                                          1   \n",
      "2                                          0   \n",
      "4                                          1   \n",
      "5                                          0   \n",
      "7                                          1   \n",
      "\n",
      "                Department_Research & Development  Department_Sales  \\\n",
      "EmployeeNumber                                                        \n",
      "1                                               0                 1   \n",
      "2                                               1                 0   \n",
      "4                                               1                 0   \n",
      "5                                               1                 0   \n",
      "7                                               1                 0   \n",
      "\n",
      "                Education_Bachelor  Education_College  Education_Doctor  \\\n",
      "EmployeeNumber                                                            \n",
      "1                                0                  1                 0   \n",
      "2                                0                  0                 0   \n",
      "4                                0                  1                 0   \n",
      "5                                0                  0                 0   \n",
      "7                                0                  0                 0   \n",
      "\n",
      "                Education_Master  EducationField_Life Sciences  \\\n",
      "EmployeeNumber                                                   \n",
      "1                              0                             1   \n",
      "2                              0                             1   \n",
      "4                              0                             0   \n",
      "5                              1                             1   \n",
      "7                              0                             0   \n",
      "\n",
      "                EducationField_Marketing  EducationField_Medical  \\\n",
      "EmployeeNumber                                                     \n",
      "1                                      0                       0   \n",
      "2                                      0                       0   \n",
      "4                                      0                       0   \n",
      "5                                      0                       0   \n",
      "7                                      0                       1   \n",
      "\n",
      "                EducationField_Other  EducationField_Technical Degree  \\\n",
      "EmployeeNumber                                                          \n",
      "1                                  0                                0   \n",
      "2                                  0                                0   \n",
      "4                                  1                                0   \n",
      "5                                  0                                0   \n",
      "7                                  0                                0   \n",
      "\n",
      "                Gender_Male  JobRole_Human Resources  \\\n",
      "EmployeeNumber                                         \n",
      "1                         0                        0   \n",
      "2                         1                        0   \n",
      "4                         1                        0   \n",
      "5                         0                        0   \n",
      "7                         1                        0   \n",
      "\n",
      "                JobRole_Laboratory Technician  JobRole_Manager  \\\n",
      "EmployeeNumber                                                   \n",
      "1                                           0                0   \n",
      "2                                           0                0   \n",
      "4                                           1                0   \n",
      "5                                           0                0   \n",
      "7                                           1                0   \n",
      "\n",
      "                JobRole_Manufacturing Director  JobRole_Research Director  \\\n",
      "EmployeeNumber                                                              \n",
      "1                                            0                          0   \n",
      "2                                            0                          0   \n",
      "4                                            0                          0   \n",
      "5                                            0                          0   \n",
      "7                                            0                          0   \n",
      "\n",
      "                JobRole_Research Scientist  JobRole_Sales Executive  \\\n",
      "EmployeeNumber                                                        \n",
      "1                                        0                        1   \n",
      "2                                        1                        0   \n",
      "4                                        0                        0   \n",
      "5                                        1                        0   \n",
      "7                                        0                        0   \n",
      "\n",
      "                JobRole_Sales Representative  MaritalStatus_Married  \\\n",
      "EmployeeNumber                                                        \n",
      "1                                          0                      0   \n",
      "2                                          0                      1   \n",
      "4                                          0                      0   \n",
      "5                                          0                      1   \n",
      "7                                          0                      1   \n",
      "\n",
      "                MaritalStatus_Single  OverTime_Yes  \n",
      "EmployeeNumber                                      \n",
      "1                                  1             1  \n",
      "2                                  0             0  \n",
      "4                                  1             1  \n",
      "5                                  0             1  \n",
      "7                                  0             0  \n",
      "(1470, 44)\n"
     ]
    }
   ],
   "source": [
    "dummies = pd.get_dummies(emp_data[nominals],drop_first=True)\n",
    "emp_data = pd.concat([emp_data.drop(columns=nominals),dummies],axis=1)\n",
    "emp_data.set_index(keys='EmployeeNumber',inplace=True)\n",
    "print(emp_data.head())\n",
    "print(emp_data.shape)"
   ]
  },
  {
   "cell_type": "markdown",
   "id": "51ad39f8",
   "metadata": {},
   "source": [
    "Part 5: transform continuous numerical variables with PowerTransformer based on the distributions as visualized during EDA (all long-tailed)."
   ]
  },
  {
   "cell_type": "code",
   "execution_count": 9,
   "id": "9e69fb77",
   "metadata": {},
   "outputs": [
    {
     "name": "stdout",
     "output_type": "stream",
     "text": [
      "count     1470.000000\n",
      "mean      6502.931293\n",
      "std       4707.956783\n",
      "min       1009.000000\n",
      "25%       2911.000000\n",
      "50%       4919.000000\n",
      "75%       8379.000000\n",
      "max      19999.000000\n",
      "Name: MonthlyIncome, dtype: float64\n"
     ]
    }
   ],
   "source": [
    "print(emp_data['MonthlyIncome'].describe())"
   ]
  },
  {
   "cell_type": "code",
   "execution_count": 10,
   "id": "8f28d294",
   "metadata": {},
   "outputs": [],
   "source": [
    "power_columns = ['Age','DistanceFromHome','NumCompaniesWorked','PercentSalaryHike','TotalWorkingYears','YearsAtCompany','YearsInCurrentRole','YearsSinceLastPromotion','YearsWithCurrManager','RatioToMedianPay']\n",
    "for c in power_columns:\n",
    "    power_trans = PowerTransformer()\n",
    "    emp_data[c] = power_trans.fit_transform(emp_data[[c]])"
   ]
  },
  {
   "cell_type": "code",
   "execution_count": 11,
   "id": "25198df7",
   "metadata": {},
   "outputs": [],
   "source": [
    "#MonthlyIncome yields a divide by zero runtime warning when applying PowerTransformer. Using the workaround suggested by user ogrisel in https://github.com/scikit-learn/scikit-learn/issues/14959\n",
    "SS = StandardScaler(with_std=False)\n",
    "emp_data['MonthlyIncome']=SS.fit_transform(emp_data[['MonthlyIncome']])\n",
    "power_trans = PowerTransformer()\n",
    "emp_data['MonthlyIncome']=power_trans.fit_transform(emp_data[['MonthlyIncome']])"
   ]
  },
  {
   "cell_type": "markdown",
   "id": "e3564635",
   "metadata": {},
   "source": [
    "Confirm the transformations worked"
   ]
  },
  {
   "cell_type": "code",
   "execution_count": 12,
   "id": "06698f2b",
   "metadata": {},
   "outputs": [
    {
     "data": {
      "image/png": "[encoded data removed]",
      "text/plain": [
       "<Figure size 576x4320 with 11 Axes>"
      ]
     },
     "metadata": {
      "needs_background": "light"
     },
     "output_type": "display_data"
    }
   ],
   "source": [
    "#Create subplots\n",
    "nums = list(power_columns)+['MonthlyIncome']\n",
    "fig, axes = plt.subplots(len(nums),1,figsize=(8,60))\n",
    "for i in range(len(nums)):\n",
    "    axes[i].hist(emp_data[nums[i]],bins=50)\n",
    "    axes[i].set_xlabel(nums[i])\n",
    "    axes[i].set_ylabel('count')\n",
    "fig.tight_layout()"
   ]
  },
  {
   "cell_type": "code",
   "execution_count": 13,
   "id": "43d51aba",
   "metadata": {},
   "outputs": [
    {
     "name": "stdout",
     "output_type": "stream",
     "text": [
      "                Age    Attrition  DistanceFromHome  EnvironmentSatisfaction  \\\n",
      "count  1.470000e+03  1470.000000      1.470000e+03              1470.000000   \n",
      "mean  -8.650865e-16     0.161224     -4.083468e-16                 0.806803   \n",
      "std    1.000340e+00     0.367863      1.000340e+00                 0.394941   \n",
      "min   -2.565934e+00     0.000000     -1.494085e+00                 0.000000   \n",
      "25%   -7.243219e-01     0.000000     -1.031215e+00                 1.000000   \n",
      "50%   -8.279093e-03     0.000000      1.053155e-01                 1.000000   \n",
      "75%    7.205620e-01     0.000000      8.464235e-01                 1.000000   \n",
      "max    2.172817e+00     1.000000      1.675323e+00                 1.000000   \n",
      "\n",
      "       JobInvolvement  JobSatisfaction  MonthlyIncome  NumCompaniesWorked  \\\n",
      "count     1470.000000      1470.000000   1.470000e+03        1.470000e+03   \n",
      "mean         2.729932         2.728571   4.414458e-17       -1.237389e-16   \n",
      "std          0.711561         1.102846   1.000340e+00        1.000340e+00   \n",
      "min          1.000000         1.000000  -1.831833e+00       -1.664787e+00   \n",
      "25%          2.000000         2.000000  -9.585431e-01       -5.713019e-01   \n",
      "50%          3.000000         3.000000  -8.031313e-02        4.342339e-02   \n",
      "75%          3.000000         4.000000   7.813705e-01        7.926945e-01   \n",
      "max          4.000000         4.000000   2.040175e+00        1.766182e+00   \n",
      "\n",
      "       PercentSalaryHike  PerformanceRating  RelationshipSatisfaction  \\\n",
      "count       1.470000e+03        1470.000000               1470.000000   \n",
      "mean       -1.446515e-14           0.153741                  0.812245   \n",
      "std         1.000340e+00           0.360824                  0.390649   \n",
      "min        -1.488918e+00           0.000000                  0.000000   \n",
      "25%        -9.487595e-01           0.000000                  1.000000   \n",
      "50%        -1.213068e-01           0.000000                  1.000000   \n",
      "75%         9.307014e-01           0.000000                  1.000000   \n",
      "max         1.885084e+00           1.000000                  1.000000   \n",
      "\n",
      "       TotalWorkingYears  TrainingTimesLastYear  WorkLifeBalance  \\\n",
      "count       1.470000e+03            1470.000000      1470.000000   \n",
      "mean       -3.332935e-16               0.963265         0.945578   \n",
      "std         1.000340e+00               0.188174         0.226925   \n",
      "min        -2.565715e+00               0.000000         0.000000   \n",
      "25%        -5.920630e-01               1.000000         1.000000   \n",
      "50%         5.249456e-02               1.000000         1.000000   \n",
      "75%         6.559876e-01               1.000000         1.000000   \n",
      "max         2.501157e+00               1.000000         1.000000   \n",
      "\n",
      "       YearsAtCompany  YearsInCurrentRole  YearsSinceLastPromotion  \\\n",
      "count    1.470000e+03        1.470000e+03             1.470000e+03   \n",
      "mean    -1.781644e-16        9.464274e-17            -7.619566e-17   \n",
      "std      1.000340e+00        1.000340e+00             1.000340e+00   \n",
      "min     -2.229592e+00       -1.596434e+00            -1.094862e+00   \n",
      "25%     -5.918447e-01       -4.466451e-01            -1.094862e+00   \n",
      "50%     -6.611444e-02       -8.961473e-02             9.685415e-02   \n",
      "75%      6.288288e-01        8.838880e-01             9.055925e-01   \n",
      "max      2.753392e+00        2.361135e+00             1.826888e+00   \n",
      "\n",
      "       YearsWithCurrManager  RatioToMedianPay  \\\n",
      "count          1.470000e+03      1.470000e+03   \n",
      "mean           2.360168e-16     -5.141862e-17   \n",
      "std            1.000340e+00      1.000340e+00   \n",
      "min           -1.550156e+00     -3.957089e+00   \n",
      "25%           -4.068812e-01     -5.910921e-01   \n",
      "50%           -5.300033e-02     -1.578407e-02   \n",
      "75%            9.096349e-01      5.218865e-01   \n",
      "max            2.264669e+00      2.863162e+00   \n",
      "\n",
      "       BusinessTravel_Travel_Frequently  BusinessTravel_Travel_Rarely  \\\n",
      "count                       1470.000000                   1470.000000   \n",
      "mean                           0.188435                      0.709524   \n",
      "std                            0.391193                      0.454137   \n",
      "min                            0.000000                      0.000000   \n",
      "25%                            0.000000                      0.000000   \n",
      "50%                            0.000000                      1.000000   \n",
      "75%                            0.000000                      1.000000   \n",
      "max                            1.000000                      1.000000   \n",
      "\n",
      "       Department_Research & Development  Department_Sales  \\\n",
      "count                        1470.000000       1470.000000   \n",
      "mean                            0.653741          0.303401   \n",
      "std                             0.475939          0.459884   \n",
      "min                             0.000000          0.000000   \n",
      "25%                             0.000000          0.000000   \n",
      "50%                             1.000000          0.000000   \n",
      "75%                             1.000000          1.000000   \n",
      "max                             1.000000          1.000000   \n",
      "\n",
      "       Education_Bachelor  Education_College  Education_Doctor  \\\n",
      "count         1470.000000        1470.000000       1470.000000   \n",
      "mean             0.389116           0.191837          0.032653   \n",
      "std              0.487716           0.393879          0.177787   \n",
      "min              0.000000           0.000000          0.000000   \n",
      "25%              0.000000           0.000000          0.000000   \n",
      "50%              0.000000           0.000000          0.000000   \n",
      "75%              1.000000           0.000000          0.000000   \n",
      "max              1.000000           1.000000          1.000000   \n",
      "\n",
      "       Education_Master  EducationField_Life Sciences  \\\n",
      "count       1470.000000                   1470.000000   \n",
      "mean           0.270748                      0.412245   \n",
      "std            0.444498                      0.492406   \n",
      "min            0.000000                      0.000000   \n",
      "25%            0.000000                      0.000000   \n",
      "50%            0.000000                      0.000000   \n",
      "75%            1.000000                      1.000000   \n",
      "max            1.000000                      1.000000   \n",
      "\n",
      "       EducationField_Marketing  EducationField_Medical  EducationField_Other  \\\n",
      "count               1470.000000             1470.000000           1470.000000   \n",
      "mean                   0.108163                0.315646              0.055782   \n",
      "std                    0.310692                0.464931              0.229579   \n",
      "min                    0.000000                0.000000              0.000000   \n",
      "25%                    0.000000                0.000000              0.000000   \n",
      "50%                    0.000000                0.000000              0.000000   \n",
      "75%                    0.000000                1.000000              0.000000   \n",
      "max                    1.000000                1.000000              1.000000   \n",
      "\n",
      "       EducationField_Technical Degree  Gender_Male  JobRole_Human Resources  \\\n",
      "count                      1470.000000  1470.000000              1470.000000   \n",
      "mean                          0.089796     0.600000                 0.035374   \n",
      "std                           0.285986     0.490065                 0.184786   \n",
      "min                           0.000000     0.000000                 0.000000   \n",
      "25%                           0.000000     0.000000                 0.000000   \n",
      "50%                           0.000000     1.000000                 0.000000   \n",
      "75%                           0.000000     1.000000                 0.000000   \n",
      "max                           1.000000     1.000000                 1.000000   \n",
      "\n",
      "       JobRole_Laboratory Technician  JobRole_Manager  \\\n",
      "count                    1470.000000      1470.000000   \n",
      "mean                        0.176190         0.069388   \n",
      "std                         0.381112         0.254199   \n",
      "min                         0.000000         0.000000   \n",
      "25%                         0.000000         0.000000   \n",
      "50%                         0.000000         0.000000   \n",
      "75%                         0.000000         0.000000   \n",
      "max                         1.000000         1.000000   \n",
      "\n",
      "       JobRole_Manufacturing Director  JobRole_Research Director  \\\n",
      "count                     1470.000000                1470.000000   \n",
      "mean                         0.098639                   0.054422   \n",
      "std                          0.298279                   0.226925   \n",
      "min                          0.000000                   0.000000   \n",
      "25%                          0.000000                   0.000000   \n",
      "50%                          0.000000                   0.000000   \n",
      "75%                          0.000000                   0.000000   \n",
      "max                          1.000000                   1.000000   \n",
      "\n",
      "       JobRole_Research Scientist  JobRole_Sales Executive  \\\n",
      "count                 1470.000000              1470.000000   \n",
      "mean                     0.198639                 0.221769   \n",
      "std                      0.399112                 0.415578   \n",
      "min                      0.000000                 0.000000   \n",
      "25%                      0.000000                 0.000000   \n",
      "50%                      0.000000                 0.000000   \n",
      "75%                      0.000000                 0.000000   \n",
      "max                      1.000000                 1.000000   \n",
      "\n",
      "       JobRole_Sales Representative  MaritalStatus_Married  \\\n",
      "count                   1470.000000            1470.000000   \n",
      "mean                       0.056463               0.457823   \n",
      "std                        0.230891               0.498387   \n",
      "min                        0.000000               0.000000   \n",
      "25%                        0.000000               0.000000   \n",
      "50%                        0.000000               0.000000   \n",
      "75%                        0.000000               1.000000   \n",
      "max                        1.000000               1.000000   \n",
      "\n",
      "       MaritalStatus_Single  OverTime_Yes  \n",
      "count           1470.000000   1470.000000  \n",
      "mean               0.319728      0.282993  \n",
      "std                0.466530      0.450606  \n",
      "min                0.000000      0.000000  \n",
      "25%                0.000000      0.000000  \n",
      "50%                0.000000      0.000000  \n",
      "75%                1.000000      1.000000  \n",
      "max                1.000000      1.000000  \n"
     ]
    }
   ],
   "source": [
    "#Double check range of values for each column\n",
    "print(emp_data.describe(include='all'))"
   ]
  },
  {
   "cell_type": "markdown",
   "id": "16a1d00b",
   "metadata": {},
   "source": [
    "Part 6: Train test split and export"
   ]
  },
  {
   "cell_type": "code",
   "execution_count": 14,
   "id": "ff9e1a40",
   "metadata": {},
   "outputs": [],
   "source": [
    "X = emp_data.drop(columns='Attrition')\n",
    "y = emp_data['Attrition']\n",
    "X_train, X_test, y_train, y_test = train_test_split(X,y,stratify=y)"
   ]
  },
  {
   "cell_type": "code",
   "execution_count": 15,
   "id": "89af3059",
   "metadata": {},
   "outputs": [
    {
     "name": "stdout",
     "output_type": "stream",
     "text": [
      "(1102, 43) (368, 43) (1102,) (368,)\n"
     ]
    }
   ],
   "source": [
    "print(X_train.shape,X_test.shape,y_train.shape,y_test.shape)"
   ]
  },
  {
   "cell_type": "code",
   "execution_count": 16,
   "id": "bea48e63",
   "metadata": {},
   "outputs": [],
   "source": [
    "X_train.to_csv('../data/processed/X_train.tsv',sep='\\t')\n",
    "X_test.to_csv('../data/processed/X_test.tsv',sep='\\t')\n",
    "y_train.to_csv('../data/processed/y_train.tsv',sep='\\t')\n",
    "y_test.to_csv('../data/processed/y_test.tsv',sep='\\t')"
   ]
  },
  {
   "cell_type": "code",
   "execution_count": null,
   "id": "cbf4db85",
   "metadata": {},
   "outputs": [],
   "source": []
  }
 ],
 "metadata": {
  "kernelspec": {
   "display_name": "Python 3 (ipykernel)",
   "language": "python",
   "name": "python3"
  },
  "language_info": {
   "codemirror_mode": {
    "name": "ipython",
    "version": 3
   },
   "file_extension": ".py",
   "mimetype": "text/x-python",
   "name": "python",
   "nbconvert_exporter": "python",
   "pygments_lexer": "ipython3",
   "version": "3.9.7"
  }
 },
 "nbformat": 4,
 "nbformat_minor": 5
}
