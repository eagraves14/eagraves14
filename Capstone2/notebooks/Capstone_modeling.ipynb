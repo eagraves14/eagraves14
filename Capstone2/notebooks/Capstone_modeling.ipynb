{
 "cells": [
  {
   "cell_type": "code",
   "execution_count": 1,
   "id": "581b296c",
   "metadata": {},
   "outputs": [],
   "source": [
    "import os\n",
    "import pandas as pd\n",
    "import numpy as np\n",
    "import matplotlib.pyplot as plt\n",
    "import seaborn as sns\n",
    "import pycaret\n",
    "from sklearn.linear_model import LogisticRegression\n",
    "from sklearn.ensemble import RandomForestClassifier\n",
    "from sklearn.metrics import confusion_matrix\n",
    "from sklearn.metrics import classification_report\n",
    "from sklearn.metrics import roc_curve\n",
    "from sklearn.metrics import roc_auc_score\n",
    "from sklearn.metrics import precision_recall_curve\n",
    "from sklearn.metrics import accuracy_score\n",
    "from sklearn.metrics import precision_score\n",
    "from sklearn.metrics import recall_score\n",
    "from sklearn.metrics import f1_score\n",
    "from sklearn.model_selection import GridSearchCV\n",
    "from sklearn.model_selection import RandomizedSearchCV\n",
    "from sklearn.model_selection import KFold\n",
    "from sklearn.model_selection import StratifiedKFold\n",
    "from time import time\n",
    "\n",
    "from IPython.display import display\n",
    "\n",
    "np.random.seed(42)\n",
    "pd.options.display.max_columns = None"
   ]
  },
  {
   "cell_type": "code",
   "execution_count": 2,
   "id": "8620a7d3",
   "metadata": {},
   "outputs": [],
   "source": [
    "X_train = pd.read_csv('../data/processed/X_train.tsv',sep='\\t')\n",
    "X_test = pd.read_csv('../data/processed/X_test.tsv',sep='\\t')\n",
    "y_train = pd.read_csv('../data/processed/y_train.tsv',sep='\\t')\n",
    "y_test = pd.read_csv('../data/processed/y_test.tsv',sep='\\t')"
   ]
  },
  {
   "cell_type": "code",
   "execution_count": 3,
   "id": "9b5001af",
   "metadata": {},
   "outputs": [],
   "source": [
    "X_train.set_index(keys='EmployeeNumber',inplace=True)\n",
    "X_test.set_index(keys='EmployeeNumber',inplace=True)\n",
    "y_train.set_index(keys='EmployeeNumber',inplace=True)\n",
    "y_test.set_index(keys='EmployeeNumber',inplace=True)"
   ]
  },
  {
   "cell_type": "markdown",
   "id": "5b5248a7",
   "metadata": {},
   "source": [
    "# Part 1: Logistic Regression"
   ]
  },
  {
   "cell_type": "code",
   "execution_count": 4,
   "id": "0eef525b",
   "metadata": {},
   "outputs": [
    {
     "name": "stdout",
     "output_type": "stream",
     "text": [
      "[0.1 0.2 0.3 0.4 0.5 0.6 0.7 0.8 0.9 2.  3.  4.  5.  6.  7.  8.  9. ]\n"
     ]
    }
   ],
   "source": [
    "# Develop param_grid for GridSearch, consisting of different values of C and different penalty types.\n",
    "# Doesn't seem to be an impetus for trying different solvers.\n",
    "C_grid = np.append(np.arange(0.1, 1, .1),np.arange(2, 10, 1,dtype=float))\n",
    "print(C_grid)\n",
    "param_grid = {'C': C_grid,'penalty':['l1','l2']}\n",
    "kfold_object = StratifiedKFold(5, shuffle = True, random_state = 42)\n",
    "logreg_for_grid = LogisticRegression(solver='liblinear')\n",
    "logreg_cv = GridSearchCV(logreg_for_grid,param_grid,cv=kfold_object)\n",
    "logreg_cv.fit(X_train,y_train.values.ravel())\n",
    "y_pred_logreg = logreg_cv.predict(X_test)"
   ]
  },
  {
   "cell_type": "code",
   "execution_count": 5,
   "id": "e234c7be",
   "metadata": {},
   "outputs": [
    {
     "name": "stdout",
     "output_type": "stream",
     "text": [
      "{'C': 2.0, 'penalty': 'l2'}\n"
     ]
    }
   ],
   "source": [
    "print(logreg_cv.best_params_)"
   ]
  },
  {
   "cell_type": "markdown",
   "id": "57ac1789",
   "metadata": {},
   "source": [
    "C of 8 was surprising, and when I changed the random state it would fluctuate to other values, including values <1. Unclear why the result for C is so volatile."
   ]
  },
  {
   "cell_type": "code",
   "execution_count": 6,
   "id": "7ce2d493",
   "metadata": {},
   "outputs": [
    {
     "data": {
      "text/plain": [
       "[Text(0, 0.5, 'False'), Text(0, 1.5, 'True')]"
      ]
     },
     "execution_count": 6,
     "metadata": {},
     "output_type": "execute_result"
    },
    {
     "data": {
      "image/png": "[encoded data removed]",
      "text/plain": [
       "<Figure size 432x288 with 2 Axes>"
      ]
     },
     "metadata": {
      "needs_background": "light"
     },
     "output_type": "display_data"
    }
   ],
   "source": [
    "pl = confusion_matrix(y_test,y_pred_logreg)\n",
    "#As posted by Graham Smith in Slack\n",
    "ax = sns.heatmap(pl, annot=True, fmt='n',cmap='Blues')\n",
    "ax.set_title('Confusion Matrix\\n');\n",
    "ax.set_xlabel('\\nPredicted Values')\n",
    "ax.set_ylabel('Actual Values\\n');\n",
    "## Tick labels - List must be in alphabetical order\n",
    "ax.xaxis.set_ticklabels(['False','True'])\n",
    "ax.yaxis.set_ticklabels(['False','True'])"
   ]
  },
  {
   "cell_type": "code",
   "execution_count": 7,
   "id": "1f8a7ea4",
   "metadata": {},
   "outputs": [
    {
     "name": "stdout",
     "output_type": "stream",
     "text": [
      "              precision    recall  f1-score   support\n",
      "\n",
      "           0       0.90      0.97      0.93       309\n",
      "           1       0.74      0.42      0.54        59\n",
      "\n",
      "    accuracy                           0.88       368\n",
      "   macro avg       0.82      0.70      0.74       368\n",
      "weighted avg       0.87      0.88      0.87       368\n",
      "\n"
     ]
    }
   ],
   "source": [
    "print(classification_report(y_test,y_pred_logreg))"
   ]
  },
  {
   "cell_type": "markdown",
   "id": "77a7e7bd",
   "metadata": {},
   "source": [
    "Low recall is discouraging, though precision is nice.  Will explore ROC and precision-recall curve to see if different probability thresholds can improve recall while maintaining precision."
   ]
  },
  {
   "cell_type": "code",
   "execution_count": 8,
   "id": "f3a1b8d3",
   "metadata": {},
   "outputs": [
    {
     "data": {
      "image/png": "[encoded data removed]",
      "text/plain": [
       "<Figure size 432x288 with 1 Axes>"
      ]
     },
     "metadata": {
      "needs_background": "light"
     },
     "output_type": "display_data"
    },
    {
     "name": "stdout",
     "output_type": "stream",
     "text": [
      "0.8180023037683067\n"
     ]
    }
   ],
   "source": [
    "#code informed by https://www.statology.org/plot-roc-curve-python/\n",
    "y_pred_proba = logreg_cv.predict_proba(X_test)[::,1]\n",
    "fpr, tpr, _ = roc_curve(y_test,  y_pred_proba)\n",
    "\n",
    "plt.plot(fpr,tpr)\n",
    "plt.ylabel('True Positive Rate')\n",
    "plt.xlabel('False Positive Rate')\n",
    "plt.show()\n",
    "\n",
    "print(roc_auc_score(y_test, y_pred_proba))"
   ]
  },
  {
   "cell_type": "markdown",
   "id": "e95a63f9",
   "metadata": {},
   "source": [
    "ROC looks good and shows high AUC"
   ]
  },
  {
   "cell_type": "code",
   "execution_count": 9,
   "id": "ab2f4d0b",
   "metadata": {},
   "outputs": [
    {
     "data": {
      "image/png": "[encoded data removed]",
      "text/plain": [
       "<Figure size 432x288 with 1 Axes>"
      ]
     },
     "metadata": {
      "needs_background": "light"
     },
     "output_type": "display_data"
    }
   ],
   "source": [
    "#code informed by https://www.statology.org/precision-recall-curve-python/\n",
    "precision, recall, thresholds = precision_recall_curve(y_test, y_pred_proba)\n",
    "\n",
    "fig, ax = plt.subplots()\n",
    "ax.plot(recall, precision, color='purple')\n",
    "\n",
    "ax.set_title('Precision-Recall Curve')\n",
    "ax.set_ylabel('Precision')\n",
    "ax.set_xlabel('Recall')\n",
    "\n",
    "plt.show()"
   ]
  },
  {
   "cell_type": "code",
   "execution_count": 10,
   "id": "73a9c4ad",
   "metadata": {},
   "outputs": [
    {
     "name": "stdout",
     "output_type": "stream",
     "text": [
      "[0.1 0.2 0.3 0.4 0.5 0.6 0.7 0.8 0.9]\n"
     ]
    }
   ],
   "source": [
    "thresholds = np.arange(0.1,1,.1)\n",
    "print(thresholds)"
   ]
  },
  {
   "cell_type": "code",
   "execution_count": 11,
   "id": "256dde7f",
   "metadata": {},
   "outputs": [
    {
     "data": {
      "image/png": "[encoded data removed]",
      "text/plain": [
       "<Figure size 432x288 with 2 Axes>"
      ]
     },
     "metadata": {
      "needs_background": "light"
     },
     "output_type": "display_data"
    }
   ],
   "source": [
    "scores = np.zeros([len(thresholds),5])\n",
    "for i in range(len(thresholds)):\n",
    "    classified_probas = y_pred_proba > thresholds[i]\n",
    "    scores[i,0] = accuracy_score(y_test,classified_probas)\n",
    "    scores[i,1] = precision_score(y_test,classified_probas)\n",
    "    scores[i,2] = recall_score(y_test,classified_probas)\n",
    "    cm = confusion_matrix(y_test,classified_probas)\n",
    "    scores[i,3] = cm[0,1]/(cm[0,1]+cm[0,0])\n",
    "    scores[i,4] = f1_score(y_test,classified_probas)\n",
    "scores_df = pd.DataFrame(scores,columns = ['Accuracy','Precision','Recall','FPR','F1'], index = thresholds)\n",
    "_ = sns.heatmap(scores_df,xticklabels=True,yticklabels=True,annot=True)"
   ]
  },
  {
   "cell_type": "markdown",
   "id": "62f17664",
   "metadata": {},
   "source": [
    "As evidenced by the precision-recall curve and the score heatmap above, good recall is only achieved by significantly lowering the classification probability threshold, which doesn't impact the FPR much but does reduce precision."
   ]
  },
  {
   "cell_type": "markdown",
   "id": "4a045ad1",
   "metadata": {},
   "source": [
    "I also explored introducing class_weights (balanced), and scoring the gridsearch based on f1 and roc_auc but got no improvement in recall without losing significant precision."
   ]
  },
  {
   "cell_type": "code",
   "execution_count": 12,
   "id": "6fb7eadf",
   "metadata": {},
   "outputs": [
    {
     "name": "stdout",
     "output_type": "stream",
     "text": [
      "OverTime_Yes                         1.989163\n",
      "BusinessTravel_Travel_Frequently     1.694210\n",
      "MaritalStatus_Single                 1.302579\n",
      "TrainingTimesLastYear_None           1.202572\n",
      "JobRole_Laboratory Technician        1.069893\n",
      "JobRole_Sales Representative         1.046155\n",
      "JobRole_Human Resources              0.941939\n",
      "BusinessTravel_Travel_Rarely         0.721627\n",
      "NumCompaniesWorked                   0.646588\n",
      "JobRole_Manager                      0.574003\n",
      "JobRole_Sales Executive              0.489704\n",
      "Department_Sales                     0.485268\n",
      "YearsSinceLastPromotion              0.482714\n",
      "TrainingTimesLastYear_Four Times     0.464475\n",
      "DistanceFromHome                     0.425785\n",
      "YearsAtCompany                       0.389648\n",
      "Gender_Male                          0.336796\n",
      "TrainingTimesLastYear_Twice          0.327914\n",
      "MaritalStatus_Married                0.203221\n",
      "PerformanceRating                    0.183343\n",
      "Education_Bachelor                   0.148737\n",
      "EducationField_Technical Degree      0.119107\n",
      "JobRole_Manufacturing Director       0.077535\n",
      "Education_Master                    -0.077532\n",
      "EducationField_Marketing            -0.089382\n",
      "PercentSalaryHike                   -0.135033\n",
      "Department_Research & Development   -0.138460\n",
      "Education_Doctor                    -0.177576\n",
      "RatioToMedianPay                    -0.182681\n",
      "MonthlyIncome                       -0.203437\n",
      "Education_College                   -0.217962\n",
      "JobRole_Research Scientist          -0.282773\n",
      "YearsInCurrentRole                  -0.343503\n",
      "Age                                 -0.362359\n",
      "JobSatisfaction                     -0.393505\n",
      "EducationField_Life Sciences        -0.421763\n",
      "EducationField_Other                -0.426186\n",
      "EducationField_Medical              -0.441023\n",
      "TotalWorkingYears                   -0.491210\n",
      "YearsWithCurrManager                -0.544246\n",
      "JobInvolvement                      -0.603892\n",
      "JobRole_Research Director           -0.737200\n",
      "RelationshipSatisfaction            -0.939460\n",
      "EnvironmentSatisfaction             -1.274045\n",
      "WorkLifeBalance                     -1.388041\n",
      "dtype: float64\n"
     ]
    }
   ],
   "source": [
    "selected = logreg_cv.best_estimator_.feature_names_in_\n",
    "coefs = logreg_cv.best_estimator_.coef_\n",
    "print(pd.Series(coefs.reshape(-1,), index=selected).sort_values(ascending=False))"
   ]
  },
  {
   "cell_type": "markdown",
   "id": "b1d474a2",
   "metadata": {},
   "source": [
    "# Part 2: Random Forest"
   ]
  },
  {
   "cell_type": "code",
   "execution_count": 13,
   "id": "c61eac8f",
   "metadata": {},
   "outputs": [
    {
     "name": "stdout",
     "output_type": "stream",
     "text": [
      "Fitting 5 folds for each of 200 candidates, totalling 1000 fits\n"
     ]
    }
   ],
   "source": [
    "# Develop param_grid for RandomizedSearch. Informed by\n",
    "# https://towardsdatascience.com/hyperparameter-tuning-the-random-forest-in-python-using-scikit-learn-28d2aa77dd74\n",
    "# In first iteration I ran, I experimented with non-default values for criterion and bootstrap, but the best parameters\n",
    "# included the default values so I removed those options to create a more focused randomized search\n",
    "\n",
    "n_estimators_grid = np.arange(200,2000,100)\n",
    "max_depth_grid = [int(x) for x in np.arange(5, 50, 5)]\n",
    "max_depth_grid.append(None)\n",
    "min_samples_split_grid = range(2,10)\n",
    "min_samples_leaf_grid = range(1,5)\n",
    "\n",
    "param_grid = {'n_estimators':n_estimators_grid,\n",
    "              'max_depth':max_depth_grid,\n",
    "              'min_samples_split':min_samples_split_grid,\n",
    "              'min_samples_leaf':min_samples_leaf_grid}\n",
    "\n",
    "kfold_object = StratifiedKFold(5, shuffle = True, random_state = 42)\n",
    "rf_for_grid = RandomForestClassifier(max_features = 'sqrt',random_state = 42)\n",
    "rf_random_cv = RandomizedSearchCV(rf_for_grid,param_grid, n_iter = 200, cv = kfold_object, verbose=2, random_state=42, n_jobs = -1)\n",
    "rf_random_cv.fit(X_train,y_train.values.ravel())\n",
    "y_pred_rf = rf_random_cv.predict(X_test)"
   ]
  },
  {
   "cell_type": "code",
   "execution_count": 14,
   "id": "d6964923",
   "metadata": {},
   "outputs": [
    {
     "name": "stdout",
     "output_type": "stream",
     "text": [
      "{'n_estimators': 1300, 'min_samples_split': 2, 'min_samples_leaf': 1, 'max_depth': 15}\n"
     ]
    }
   ],
   "source": [
    "print(rf_random_cv.best_params_)"
   ]
  },
  {
   "cell_type": "code",
   "execution_count": 15,
   "id": "8a8338c4",
   "metadata": {},
   "outputs": [
    {
     "data": {
      "text/plain": [
       "[Text(0, 0.5, 'False'), Text(0, 1.5, 'True')]"
      ]
     },
     "execution_count": 15,
     "metadata": {},
     "output_type": "execute_result"
    },
    {
     "data": {
      "image/png": "[encoded data removed]",
      "text/plain": [
       "<Figure size 432x288 with 2 Axes>"
      ]
     },
     "metadata": {
      "needs_background": "light"
     },
     "output_type": "display_data"
    }
   ],
   "source": [
    "pl = confusion_matrix(y_test,y_pred_rf)\n",
    "\n",
    "ax = sns.heatmap(pl, annot=True, fmt='n',cmap='Blues')\n",
    "ax.set_title('Confusion Matrix\\n');\n",
    "ax.set_xlabel('\\nPredicted Values')\n",
    "ax.set_ylabel('Actual Values\\n');\n",
    "## Tick labels - List must be in alphabetical order\n",
    "ax.xaxis.set_ticklabels(['False','True'])\n",
    "ax.yaxis.set_ticklabels(['False','True'])"
   ]
  },
  {
   "cell_type": "code",
   "execution_count": 16,
   "id": "3769f66e",
   "metadata": {},
   "outputs": [
    {
     "name": "stdout",
     "output_type": "stream",
     "text": [
      "              precision    recall  f1-score   support\n",
      "\n",
      "           0       0.85      0.98      0.91       309\n",
      "           1       0.50      0.10      0.17        59\n",
      "\n",
      "    accuracy                           0.84       368\n",
      "   macro avg       0.68      0.54      0.54       368\n",
      "weighted avg       0.79      0.84      0.79       368\n",
      "\n"
     ]
    }
   ],
   "source": [
    "print(classification_report(y_test,y_pred_rf))"
   ]
  },
  {
   "cell_type": "code",
   "execution_count": 17,
   "id": "da1da7b7",
   "metadata": {},
   "outputs": [
    {
     "data": {
      "image/png": "[encoded data removed]",
      "text/plain": [
       "<Figure size 432x288 with 1 Axes>"
      ]
     },
     "metadata": {
      "needs_background": "light"
     },
     "output_type": "display_data"
    },
    {
     "name": "stdout",
     "output_type": "stream",
     "text": [
      "0.7790027974329439\n"
     ]
    }
   ],
   "source": [
    "y_pred_proba_rf = rf_random_cv.predict_proba(X_test)[::,1]\n",
    "fpr, tpr, _ = roc_curve(y_test,  y_pred_proba_rf)\n",
    "\n",
    "plt.plot(fpr,tpr)\n",
    "plt.ylabel('True Positive Rate')\n",
    "plt.xlabel('False Positive Rate')\n",
    "plt.show()\n",
    "\n",
    "print(roc_auc_score(y_test, y_pred_proba_rf))"
   ]
  },
  {
   "cell_type": "code",
   "execution_count": 18,
   "id": "48e0f1d5",
   "metadata": {},
   "outputs": [
    {
     "data": {
      "image/png": "[encoded data removed]",
      "text/plain": [
       "<Figure size 432x288 with 1 Axes>"
      ]
     },
     "metadata": {
      "needs_background": "light"
     },
     "output_type": "display_data"
    }
   ],
   "source": [
    "precision, recall, thresholds = precision_recall_curve(y_test, y_pred_proba_rf)\n",
    "\n",
    "fig, ax = plt.subplots()\n",
    "ax.plot(recall, precision, color='purple')\n",
    "\n",
    "ax.set_title('Precision-Recall Curve')\n",
    "ax.set_ylabel('Precision')\n",
    "ax.set_xlabel('Recall')\n",
    "\n",
    "plt.show()"
   ]
  },
  {
   "cell_type": "code",
   "execution_count": 19,
   "id": "fee41462",
   "metadata": {},
   "outputs": [
    {
     "name": "stdout",
     "output_type": "stream",
     "text": [
      "[0.1 0.2 0.3 0.4 0.5 0.6 0.7 0.8 0.9]\n"
     ]
    }
   ],
   "source": [
    "thresholds = np.arange(0.1,1,.1)\n",
    "print(thresholds)"
   ]
  },
  {
   "cell_type": "code",
   "execution_count": 20,
   "id": "dced8f7f",
   "metadata": {},
   "outputs": [
    {
     "name": "stderr",
     "output_type": "stream",
     "text": [
      "C:\\Users\\eagra\\anaconda3\\lib\\site-packages\\sklearn\\metrics\\_classification.py:1327: UndefinedMetricWarning: Precision is ill-defined and being set to 0.0 due to no predicted samples. Use `zero_division` parameter to control this behavior.\n",
      "  _warn_prf(average, modifier, msg_start, len(result))\n"
     ]
    },
    {
     "data": {
      "image/png": "[encoded data removed]",
      "text/plain": [
       "<Figure size 432x288 with 2 Axes>"
      ]
     },
     "metadata": {
      "needs_background": "light"
     },
     "output_type": "display_data"
    }
   ],
   "source": [
    "scores = np.zeros([len(thresholds),5])\n",
    "for i in range(len(thresholds)):\n",
    "    classified_probas = y_pred_proba_rf > thresholds[i]\n",
    "    scores[i,0] = accuracy_score(y_test,classified_probas)\n",
    "    scores[i,1] = precision_score(y_test,classified_probas)\n",
    "    scores[i,2] = recall_score(y_test,classified_probas)\n",
    "    cm = confusion_matrix(y_test,classified_probas)\n",
    "    scores[i,3] = cm[0,1]/(cm[0,1]+cm[0,0])\n",
    "    scores[i,4] = f1_score(y_test,classified_probas)\n",
    "scores_df = pd.DataFrame(scores,columns = ['Accuracy','Precision','Recall','FPR','F1'], index = thresholds)\n",
    "_ = sns.heatmap(scores_df,xticklabels=True,yticklabels=True,annot=True)"
   ]
  },
  {
   "cell_type": "markdown",
   "id": "bb16c0e0",
   "metadata": {},
   "source": [
    "Model performs extremely poorly, unclear why. To be discussed.  As I did with the logistic regression, here I also explored using balanced class weights or scoring based on roc_auc and f1 but to no avail."
   ]
  },
  {
   "cell_type": "code",
   "execution_count": 21,
   "id": "399bd3e5",
   "metadata": {},
   "outputs": [
    {
     "name": "stdout",
     "output_type": "stream",
     "text": [
      "MonthlyIncome                        0.085067\n",
      "Age                                  0.075234\n",
      "TotalWorkingYears                    0.067079\n",
      "RatioToMedianPay                     0.063707\n",
      "DistanceFromHome                     0.057031\n",
      "YearsAtCompany                       0.050138\n",
      "YearsWithCurrManager                 0.044781\n",
      "OverTime_Yes                         0.043343\n",
      "NumCompaniesWorked                   0.042458\n",
      "PercentSalaryHike                    0.041871\n",
      "YearsInCurrentRole                   0.032290\n",
      "JobInvolvement                       0.031983\n",
      "JobSatisfaction                      0.030639\n",
      "YearsSinceLastPromotion              0.029219\n",
      "MaritalStatus_Single                 0.021491\n",
      "EnvironmentSatisfaction              0.020654\n",
      "BusinessTravel_Travel_Frequently     0.016225\n",
      "RelationshipSatisfaction             0.015343\n",
      "WorkLifeBalance                      0.013600\n",
      "JobRole_Laboratory Technician        0.013100\n",
      "Gender_Male                          0.012718\n",
      "TrainingTimesLastYear_Twice          0.012394\n",
      "Education_Bachelor                   0.012027\n",
      "MaritalStatus_Married                0.012010\n",
      "BusinessTravel_Travel_Rarely         0.011057\n",
      "EducationField_Life Sciences         0.010813\n",
      "Department_Research & Development    0.010802\n",
      "EducationField_Medical               0.010401\n",
      "Department_Sales                     0.010380\n",
      "JobRole_Research Scientist           0.010024\n",
      "Education_Master                     0.009924\n",
      "JobRole_Sales Executive              0.009380\n",
      "EducationField_Marketing             0.009360\n",
      "JobRole_Sales Representative         0.008932\n",
      "Education_College                    0.008906\n",
      "EducationField_Technical Degree      0.008383\n",
      "TrainingTimesLastYear_None           0.006683\n",
      "PerformanceRating                    0.006638\n",
      "TrainingTimesLastYear_Four Times     0.006297\n",
      "JobRole_Human Resources              0.003811\n",
      "JobRole_Manufacturing Director       0.003567\n",
      "EducationField_Other                 0.003421\n",
      "JobRole_Manager                      0.002967\n",
      "Education_Doctor                     0.002735\n",
      "JobRole_Research Director            0.001118\n",
      "dtype: float64\n"
     ]
    }
   ],
   "source": [
    "imps = rf_random_cv.best_estimator_.feature_importances_\n",
    "print(pd.Series(imps, index=X_train.columns).sort_values(ascending=False))"
   ]
  },
  {
   "cell_type": "markdown",
   "id": "2b40b376",
   "metadata": {},
   "source": [
    "# Part 3: Pycaret"
   ]
  },
  {
   "cell_type": "code",
   "execution_count": 22,
   "id": "118ada08",
   "metadata": {},
   "outputs": [],
   "source": [
    "combined_train = pd.concat([X_train,y_train],axis=1)\n",
    "combined_test = pd.concat([X_test,y_test],axis=1)\n",
    "data_pycaret = pd.concat([combined_train,combined_test])"
   ]
  },
  {
   "cell_type": "code",
   "execution_count": 23,
   "id": "6317efeb",
   "metadata": {},
   "outputs": [
    {
     "data": {
      "text/html": [
       "<style type=\"text/css\">\n",
       "</style>\n",
       "<table id=\"T_34afa\">\n",
       "  <thead>\n",
       "    <tr>\n",
       "      <th class=\"blank level0\" >&nbsp;</th>\n",
       "      <th id=\"T_34afa_level0_col0\" class=\"col_heading level0 col0\" >Description</th>\n",
       "      <th id=\"T_34afa_level0_col1\" class=\"col_heading level0 col1\" >Value</th>\n",
       "    </tr>\n",
       "  </thead>\n",
       "  <tbody>\n",
       "    <tr>\n",
       "      <th id=\"T_34afa_level0_row0\" class=\"row_heading level0 row0\" >0</th>\n",
       "      <td id=\"T_34afa_row0_col0\" class=\"data row0 col0\" >session_id</td>\n",
       "      <td id=\"T_34afa_row0_col1\" class=\"data row0 col1\" >5561</td>\n",
       "    </tr>\n",
       "    <tr>\n",
       "      <th id=\"T_34afa_level0_row1\" class=\"row_heading level0 row1\" >1</th>\n",
       "      <td id=\"T_34afa_row1_col0\" class=\"data row1 col0\" >Target</td>\n",
       "      <td id=\"T_34afa_row1_col1\" class=\"data row1 col1\" >Attrition</td>\n",
       "    </tr>\n",
       "    <tr>\n",
       "      <th id=\"T_34afa_level0_row2\" class=\"row_heading level0 row2\" >2</th>\n",
       "      <td id=\"T_34afa_row2_col0\" class=\"data row2 col0\" >Target Type</td>\n",
       "      <td id=\"T_34afa_row2_col1\" class=\"data row2 col1\" >Binary</td>\n",
       "    </tr>\n",
       "    <tr>\n",
       "      <th id=\"T_34afa_level0_row3\" class=\"row_heading level0 row3\" >3</th>\n",
       "      <td id=\"T_34afa_row3_col0\" class=\"data row3 col0\" >Label Encoded</td>\n",
       "      <td id=\"T_34afa_row3_col1\" class=\"data row3 col1\" >0: 0, 1: 1</td>\n",
       "    </tr>\n",
       "    <tr>\n",
       "      <th id=\"T_34afa_level0_row4\" class=\"row_heading level0 row4\" >4</th>\n",
       "      <td id=\"T_34afa_row4_col0\" class=\"data row4 col0\" >Original Data</td>\n",
       "      <td id=\"T_34afa_row4_col1\" class=\"data row4 col1\" >(1470, 46)</td>\n",
       "    </tr>\n",
       "    <tr>\n",
       "      <th id=\"T_34afa_level0_row5\" class=\"row_heading level0 row5\" >5</th>\n",
       "      <td id=\"T_34afa_row5_col0\" class=\"data row5 col0\" >Missing Values</td>\n",
       "      <td id=\"T_34afa_row5_col1\" class=\"data row5 col1\" >False</td>\n",
       "    </tr>\n",
       "    <tr>\n",
       "      <th id=\"T_34afa_level0_row6\" class=\"row_heading level0 row6\" >6</th>\n",
       "      <td id=\"T_34afa_row6_col0\" class=\"data row6 col0\" >Numeric Features</td>\n",
       "      <td id=\"T_34afa_row6_col1\" class=\"data row6 col1\" >11</td>\n",
       "    </tr>\n",
       "    <tr>\n",
       "      <th id=\"T_34afa_level0_row7\" class=\"row_heading level0 row7\" >7</th>\n",
       "      <td id=\"T_34afa_row7_col0\" class=\"data row7 col0\" >Categorical Features</td>\n",
       "      <td id=\"T_34afa_row7_col1\" class=\"data row7 col1\" >34</td>\n",
       "    </tr>\n",
       "    <tr>\n",
       "      <th id=\"T_34afa_level0_row8\" class=\"row_heading level0 row8\" >8</th>\n",
       "      <td id=\"T_34afa_row8_col0\" class=\"data row8 col0\" >Transformed Train Set</td>\n",
       "      <td id=\"T_34afa_row8_col1\" class=\"data row8 col1\" >(1028, 45)</td>\n",
       "    </tr>\n",
       "    <tr>\n",
       "      <th id=\"T_34afa_level0_row9\" class=\"row_heading level0 row9\" >9</th>\n",
       "      <td id=\"T_34afa_row9_col0\" class=\"data row9 col0\" >Transformed Test Set</td>\n",
       "      <td id=\"T_34afa_row9_col1\" class=\"data row9 col1\" >(442, 45)</td>\n",
       "    </tr>\n",
       "    <tr>\n",
       "      <th id=\"T_34afa_level0_row10\" class=\"row_heading level0 row10\" >10</th>\n",
       "      <td id=\"T_34afa_row10_col0\" class=\"data row10 col0\" >Shuffle Train-Test</td>\n",
       "      <td id=\"T_34afa_row10_col1\" class=\"data row10 col1\" >True</td>\n",
       "    </tr>\n",
       "    <tr>\n",
       "      <th id=\"T_34afa_level0_row11\" class=\"row_heading level0 row11\" >11</th>\n",
       "      <td id=\"T_34afa_row11_col0\" class=\"data row11 col0\" >Stratify Train-Test</td>\n",
       "      <td id=\"T_34afa_row11_col1\" class=\"data row11 col1\" >True</td>\n",
       "    </tr>\n",
       "    <tr>\n",
       "      <th id=\"T_34afa_level0_row12\" class=\"row_heading level0 row12\" >12</th>\n",
       "      <td id=\"T_34afa_row12_col0\" class=\"data row12 col0\" >Fold Generator</td>\n",
       "      <td id=\"T_34afa_row12_col1\" class=\"data row12 col1\" >StratifiedKFold</td>\n",
       "    </tr>\n",
       "    <tr>\n",
       "      <th id=\"T_34afa_level0_row13\" class=\"row_heading level0 row13\" >13</th>\n",
       "      <td id=\"T_34afa_row13_col0\" class=\"data row13 col0\" >Fold Number</td>\n",
       "      <td id=\"T_34afa_row13_col1\" class=\"data row13 col1\" >10</td>\n",
       "    </tr>\n",
       "    <tr>\n",
       "      <th id=\"T_34afa_level0_row14\" class=\"row_heading level0 row14\" >14</th>\n",
       "      <td id=\"T_34afa_row14_col0\" class=\"data row14 col0\" >CPU Jobs</td>\n",
       "      <td id=\"T_34afa_row14_col1\" class=\"data row14 col1\" >-1</td>\n",
       "    </tr>\n",
       "    <tr>\n",
       "      <th id=\"T_34afa_level0_row15\" class=\"row_heading level0 row15\" >15</th>\n",
       "      <td id=\"T_34afa_row15_col0\" class=\"data row15 col0\" >Use GPU</td>\n",
       "      <td id=\"T_34afa_row15_col1\" class=\"data row15 col1\" >False</td>\n",
       "    </tr>\n",
       "    <tr>\n",
       "      <th id=\"T_34afa_level0_row16\" class=\"row_heading level0 row16\" >16</th>\n",
       "      <td id=\"T_34afa_row16_col0\" class=\"data row16 col0\" >Log Experiment</td>\n",
       "      <td id=\"T_34afa_row16_col1\" class=\"data row16 col1\" >False</td>\n",
       "    </tr>\n",
       "    <tr>\n",
       "      <th id=\"T_34afa_level0_row17\" class=\"row_heading level0 row17\" >17</th>\n",
       "      <td id=\"T_34afa_row17_col0\" class=\"data row17 col0\" >Experiment Name</td>\n",
       "      <td id=\"T_34afa_row17_col1\" class=\"data row17 col1\" >clf-default-name</td>\n",
       "    </tr>\n",
       "    <tr>\n",
       "      <th id=\"T_34afa_level0_row18\" class=\"row_heading level0 row18\" >18</th>\n",
       "      <td id=\"T_34afa_row18_col0\" class=\"data row18 col0\" >USI</td>\n",
       "      <td id=\"T_34afa_row18_col1\" class=\"data row18 col1\" >1070</td>\n",
       "    </tr>\n",
       "    <tr>\n",
       "      <th id=\"T_34afa_level0_row19\" class=\"row_heading level0 row19\" >19</th>\n",
       "      <td id=\"T_34afa_row19_col0\" class=\"data row19 col0\" >Fix Imbalance</td>\n",
       "      <td id=\"T_34afa_row19_col1\" class=\"data row19 col1\" >False</td>\n",
       "    </tr>\n",
       "    <tr>\n",
       "      <th id=\"T_34afa_level0_row20\" class=\"row_heading level0 row20\" >20</th>\n",
       "      <td id=\"T_34afa_row20_col0\" class=\"data row20 col0\" >Fix Imbalance Method</td>\n",
       "      <td id=\"T_34afa_row20_col1\" class=\"data row20 col1\" >SMOTE</td>\n",
       "    </tr>\n",
       "  </tbody>\n",
       "</table>\n"
      ],
      "text/plain": [
       "<pandas.io.formats.style.Styler at 0x1585e1abbe0>"
      ]
     },
     "metadata": {},
     "output_type": "display_data"
    }
   ],
   "source": [
    "from pycaret.classification import *\n",
    "s = setup(data_pycaret,target = 'Attrition',preprocess=False,fold_shuffle=True,data_split_stratify=True,fix_imbalance=True)"
   ]
  },
  {
   "cell_type": "code",
   "execution_count": 24,
   "id": "1430392f",
   "metadata": {},
   "outputs": [
    {
     "data": {
      "text/html": [
       "<style type=\"text/css\">\n",
       "#T_a4bd1 th {\n",
       "  text-align: left;\n",
       "}\n",
       "#T_a4bd1_row0_col0, #T_a4bd1_row0_col2, #T_a4bd1_row0_col3, #T_a4bd1_row0_col4, #T_a4bd1_row1_col0, #T_a4bd1_row1_col1, #T_a4bd1_row1_col3, #T_a4bd1_row1_col5, #T_a4bd1_row1_col6, #T_a4bd1_row1_col7, #T_a4bd1_row2_col0, #T_a4bd1_row2_col1, #T_a4bd1_row2_col2, #T_a4bd1_row2_col3, #T_a4bd1_row2_col4, #T_a4bd1_row2_col5, #T_a4bd1_row2_col6, #T_a4bd1_row2_col7, #T_a4bd1_row3_col0, #T_a4bd1_row3_col1, #T_a4bd1_row3_col2, #T_a4bd1_row3_col3, #T_a4bd1_row3_col4, #T_a4bd1_row3_col5, #T_a4bd1_row3_col6, #T_a4bd1_row3_col7, #T_a4bd1_row4_col0, #T_a4bd1_row4_col1, #T_a4bd1_row4_col2, #T_a4bd1_row4_col3, #T_a4bd1_row4_col4, #T_a4bd1_row4_col5, #T_a4bd1_row4_col6, #T_a4bd1_row4_col7, #T_a4bd1_row5_col0, #T_a4bd1_row5_col1, #T_a4bd1_row5_col2, #T_a4bd1_row5_col3, #T_a4bd1_row5_col4, #T_a4bd1_row5_col5, #T_a4bd1_row5_col6, #T_a4bd1_row5_col7, #T_a4bd1_row6_col0, #T_a4bd1_row6_col1, #T_a4bd1_row6_col2, #T_a4bd1_row6_col3, #T_a4bd1_row6_col4, #T_a4bd1_row6_col5, #T_a4bd1_row6_col6, #T_a4bd1_row6_col7, #T_a4bd1_row7_col0, #T_a4bd1_row7_col1, #T_a4bd1_row7_col2, #T_a4bd1_row7_col3, #T_a4bd1_row7_col4, #T_a4bd1_row7_col5, #T_a4bd1_row7_col6, #T_a4bd1_row7_col7, #T_a4bd1_row8_col0, #T_a4bd1_row8_col1, #T_a4bd1_row8_col2, #T_a4bd1_row8_col3, #T_a4bd1_row8_col4, #T_a4bd1_row8_col5, #T_a4bd1_row8_col6, #T_a4bd1_row8_col7, #T_a4bd1_row9_col0, #T_a4bd1_row9_col1, #T_a4bd1_row9_col2, #T_a4bd1_row9_col3, #T_a4bd1_row9_col4, #T_a4bd1_row9_col5, #T_a4bd1_row9_col6, #T_a4bd1_row9_col7, #T_a4bd1_row10_col0, #T_a4bd1_row10_col1, #T_a4bd1_row10_col2, #T_a4bd1_row10_col3, #T_a4bd1_row10_col4, #T_a4bd1_row10_col5, #T_a4bd1_row10_col6, #T_a4bd1_row10_col7, #T_a4bd1_row11_col0, #T_a4bd1_row11_col1, #T_a4bd1_row11_col2, #T_a4bd1_row11_col3, #T_a4bd1_row11_col4, #T_a4bd1_row11_col5, #T_a4bd1_row11_col6, #T_a4bd1_row11_col7, #T_a4bd1_row12_col0, #T_a4bd1_row12_col1, #T_a4bd1_row12_col2, #T_a4bd1_row12_col4, #T_a4bd1_row12_col5, #T_a4bd1_row12_col6, #T_a4bd1_row12_col7 {\n",
       "  text-align: left;\n",
       "}\n",
       "#T_a4bd1_row0_col1, #T_a4bd1_row0_col5, #T_a4bd1_row0_col6, #T_a4bd1_row0_col7, #T_a4bd1_row1_col2, #T_a4bd1_row1_col4, #T_a4bd1_row12_col3 {\n",
       "  text-align: left;\n",
       "  background-color: yellow;\n",
       "}\n",
       "#T_a4bd1_row0_col8, #T_a4bd1_row1_col8, #T_a4bd1_row3_col8, #T_a4bd1_row4_col8, #T_a4bd1_row5_col8, #T_a4bd1_row6_col8, #T_a4bd1_row7_col8, #T_a4bd1_row8_col8, #T_a4bd1_row9_col8, #T_a4bd1_row10_col8, #T_a4bd1_row11_col8, #T_a4bd1_row12_col8 {\n",
       "  text-align: left;\n",
       "  background-color: lightgrey;\n",
       "}\n",
       "#T_a4bd1_row2_col8 {\n",
       "  text-align: left;\n",
       "  background-color: yellow;\n",
       "  background-color: lightgrey;\n",
       "}\n",
       "</style>\n",
       "<table id=\"T_a4bd1\">\n",
       "  <thead>\n",
       "    <tr>\n",
       "      <th class=\"blank level0\" >&nbsp;</th>\n",
       "      <th id=\"T_a4bd1_level0_col0\" class=\"col_heading level0 col0\" >Model</th>\n",
       "      <th id=\"T_a4bd1_level0_col1\" class=\"col_heading level0 col1\" >Accuracy</th>\n",
       "      <th id=\"T_a4bd1_level0_col2\" class=\"col_heading level0 col2\" >AUC</th>\n",
       "      <th id=\"T_a4bd1_level0_col3\" class=\"col_heading level0 col3\" >Recall</th>\n",
       "      <th id=\"T_a4bd1_level0_col4\" class=\"col_heading level0 col4\" >Prec.</th>\n",
       "      <th id=\"T_a4bd1_level0_col5\" class=\"col_heading level0 col5\" >F1</th>\n",
       "      <th id=\"T_a4bd1_level0_col6\" class=\"col_heading level0 col6\" >Kappa</th>\n",
       "      <th id=\"T_a4bd1_level0_col7\" class=\"col_heading level0 col7\" >MCC</th>\n",
       "      <th id=\"T_a4bd1_level0_col8\" class=\"col_heading level0 col8\" >TT (Sec)</th>\n",
       "    </tr>\n",
       "  </thead>\n",
       "  <tbody>\n",
       "    <tr>\n",
       "      <th id=\"T_a4bd1_level0_row0\" class=\"row_heading level0 row0\" >lda</th>\n",
       "      <td id=\"T_a4bd1_row0_col0\" class=\"data row0 col0\" >Linear Discriminant Analysis</td>\n",
       "      <td id=\"T_a4bd1_row0_col1\" class=\"data row0 col1\" >0.8890</td>\n",
       "      <td id=\"T_a4bd1_row0_col2\" class=\"data row0 col2\" >0.8276</td>\n",
       "      <td id=\"T_a4bd1_row0_col3\" class=\"data row0 col3\" >0.4526</td>\n",
       "      <td id=\"T_a4bd1_row0_col4\" class=\"data row0 col4\" >0.7862</td>\n",
       "      <td id=\"T_a4bd1_row0_col5\" class=\"data row0 col5\" >0.5663</td>\n",
       "      <td id=\"T_a4bd1_row0_col6\" class=\"data row0 col6\" >0.5086</td>\n",
       "      <td id=\"T_a4bd1_row0_col7\" class=\"data row0 col7\" >0.5384</td>\n",
       "      <td id=\"T_a4bd1_row0_col8\" class=\"data row0 col8\" >0.0120</td>\n",
       "    </tr>\n",
       "    <tr>\n",
       "      <th id=\"T_a4bd1_level0_row1\" class=\"row_heading level0 row1\" >lr</th>\n",
       "      <td id=\"T_a4bd1_row1_col0\" class=\"data row1 col0\" >Logistic Regression</td>\n",
       "      <td id=\"T_a4bd1_row1_col1\" class=\"data row1 col1\" >0.8852</td>\n",
       "      <td id=\"T_a4bd1_row1_col2\" class=\"data row1 col2\" >0.8351</td>\n",
       "      <td id=\"T_a4bd1_row1_col3\" class=\"data row1 col3\" >0.3982</td>\n",
       "      <td id=\"T_a4bd1_row1_col4\" class=\"data row1 col4\" >0.7941</td>\n",
       "      <td id=\"T_a4bd1_row1_col5\" class=\"data row1 col5\" >0.5245</td>\n",
       "      <td id=\"T_a4bd1_row1_col6\" class=\"data row1 col6\" >0.4681</td>\n",
       "      <td id=\"T_a4bd1_row1_col7\" class=\"data row1 col7\" >0.5068</td>\n",
       "      <td id=\"T_a4bd1_row1_col8\" class=\"data row1 col8\" >0.7340</td>\n",
       "    </tr>\n",
       "    <tr>\n",
       "      <th id=\"T_a4bd1_level0_row2\" class=\"row_heading level0 row2\" >ridge</th>\n",
       "      <td id=\"T_a4bd1_row2_col0\" class=\"data row2 col0\" >Ridge Classifier</td>\n",
       "      <td id=\"T_a4bd1_row2_col1\" class=\"data row2 col1\" >0.8696</td>\n",
       "      <td id=\"T_a4bd1_row2_col2\" class=\"data row2 col2\" >0.0000</td>\n",
       "      <td id=\"T_a4bd1_row2_col3\" class=\"data row2 col3\" >0.2540</td>\n",
       "      <td id=\"T_a4bd1_row2_col4\" class=\"data row2 col4\" >0.7940</td>\n",
       "      <td id=\"T_a4bd1_row2_col5\" class=\"data row2 col5\" >0.3780</td>\n",
       "      <td id=\"T_a4bd1_row2_col6\" class=\"data row2 col6\" >0.3290</td>\n",
       "      <td id=\"T_a4bd1_row2_col7\" class=\"data row2 col7\" >0.3976</td>\n",
       "      <td id=\"T_a4bd1_row2_col8\" class=\"data row2 col8\" >0.0110</td>\n",
       "    </tr>\n",
       "    <tr>\n",
       "      <th id=\"T_a4bd1_level0_row3\" class=\"row_heading level0 row3\" >gbc</th>\n",
       "      <td id=\"T_a4bd1_row3_col0\" class=\"data row3 col0\" >Gradient Boosting Classifier</td>\n",
       "      <td id=\"T_a4bd1_row3_col1\" class=\"data row3 col1\" >0.8618</td>\n",
       "      <td id=\"T_a4bd1_row3_col2\" class=\"data row3 col2\" >0.8146</td>\n",
       "      <td id=\"T_a4bd1_row3_col3\" class=\"data row3 col3\" >0.3081</td>\n",
       "      <td id=\"T_a4bd1_row3_col4\" class=\"data row3 col4\" >0.6452</td>\n",
       "      <td id=\"T_a4bd1_row3_col5\" class=\"data row3 col5\" >0.4085</td>\n",
       "      <td id=\"T_a4bd1_row3_col6\" class=\"data row3 col6\" >0.3442</td>\n",
       "      <td id=\"T_a4bd1_row3_col7\" class=\"data row3 col7\" >0.3774</td>\n",
       "      <td id=\"T_a4bd1_row3_col8\" class=\"data row3 col8\" >0.0500</td>\n",
       "    </tr>\n",
       "    <tr>\n",
       "      <th id=\"T_a4bd1_level0_row4\" class=\"row_heading level0 row4\" >catboost</th>\n",
       "      <td id=\"T_a4bd1_row4_col0\" class=\"data row4 col0\" >CatBoost Classifier</td>\n",
       "      <td id=\"T_a4bd1_row4_col1\" class=\"data row4 col1\" >0.8599</td>\n",
       "      <td id=\"T_a4bd1_row4_col2\" class=\"data row4 col2\" >0.8085</td>\n",
       "      <td id=\"T_a4bd1_row4_col3\" class=\"data row4 col3\" >0.2114</td>\n",
       "      <td id=\"T_a4bd1_row4_col4\" class=\"data row4 col4\" >0.7333</td>\n",
       "      <td id=\"T_a4bd1_row4_col5\" class=\"data row4 col5\" >0.3265</td>\n",
       "      <td id=\"T_a4bd1_row4_col6\" class=\"data row4 col6\" >0.2744</td>\n",
       "      <td id=\"T_a4bd1_row4_col7\" class=\"data row4 col7\" >0.3420</td>\n",
       "      <td id=\"T_a4bd1_row4_col8\" class=\"data row4 col8\" >0.8440</td>\n",
       "    </tr>\n",
       "    <tr>\n",
       "      <th id=\"T_a4bd1_level0_row5\" class=\"row_heading level0 row5\" >ada</th>\n",
       "      <td id=\"T_a4bd1_row5_col0\" class=\"data row5 col0\" >Ada Boost Classifier</td>\n",
       "      <td id=\"T_a4bd1_row5_col1\" class=\"data row5 col1\" >0.8589</td>\n",
       "      <td id=\"T_a4bd1_row5_col2\" class=\"data row5 col2\" >0.7897</td>\n",
       "      <td id=\"T_a4bd1_row5_col3\" class=\"data row5 col3\" >0.3423</td>\n",
       "      <td id=\"T_a4bd1_row5_col4\" class=\"data row5 col4\" >0.6387</td>\n",
       "      <td id=\"T_a4bd1_row5_col5\" class=\"data row5 col5\" >0.4365</td>\n",
       "      <td id=\"T_a4bd1_row5_col6\" class=\"data row5 col6\" >0.3648</td>\n",
       "      <td id=\"T_a4bd1_row5_col7\" class=\"data row5 col7\" >0.3926</td>\n",
       "      <td id=\"T_a4bd1_row5_col8\" class=\"data row5 col8\" >0.1410</td>\n",
       "    </tr>\n",
       "    <tr>\n",
       "      <th id=\"T_a4bd1_level0_row6\" class=\"row_heading level0 row6\" >et</th>\n",
       "      <td id=\"T_a4bd1_row6_col0\" class=\"data row6 col0\" >Extra Trees Classifier</td>\n",
       "      <td id=\"T_a4bd1_row6_col1\" class=\"data row6 col1\" >0.8580</td>\n",
       "      <td id=\"T_a4bd1_row6_col2\" class=\"data row6 col2\" >0.7922</td>\n",
       "      <td id=\"T_a4bd1_row6_col3\" class=\"data row6 col3\" >0.1868</td>\n",
       "      <td id=\"T_a4bd1_row6_col4\" class=\"data row6 col4\" >0.7350</td>\n",
       "      <td id=\"T_a4bd1_row6_col5\" class=\"data row6 col5\" >0.2953</td>\n",
       "      <td id=\"T_a4bd1_row6_col6\" class=\"data row6 col6\" >0.2473</td>\n",
       "      <td id=\"T_a4bd1_row6_col7\" class=\"data row6 col7\" >0.3206</td>\n",
       "      <td id=\"T_a4bd1_row6_col8\" class=\"data row6 col8\" >0.0680</td>\n",
       "    </tr>\n",
       "    <tr>\n",
       "      <th id=\"T_a4bd1_level0_row7\" class=\"row_heading level0 row7\" >rf</th>\n",
       "      <td id=\"T_a4bd1_row7_col0\" class=\"data row7 col0\" >Random Forest Classifier</td>\n",
       "      <td id=\"T_a4bd1_row7_col1\" class=\"data row7 col1\" >0.8521</td>\n",
       "      <td id=\"T_a4bd1_row7_col2\" class=\"data row7 col2\" >0.8040</td>\n",
       "      <td id=\"T_a4bd1_row7_col3\" class=\"data row7 col3\" >0.1452</td>\n",
       "      <td id=\"T_a4bd1_row7_col4\" class=\"data row7 col4\" >0.7133</td>\n",
       "      <td id=\"T_a4bd1_row7_col5\" class=\"data row7 col5\" >0.2370</td>\n",
       "      <td id=\"T_a4bd1_row7_col6\" class=\"data row7 col6\" >0.1943</td>\n",
       "      <td id=\"T_a4bd1_row7_col7\" class=\"data row7 col7\" >0.2706</td>\n",
       "      <td id=\"T_a4bd1_row7_col8\" class=\"data row7 col8\" >0.0780</td>\n",
       "    </tr>\n",
       "    <tr>\n",
       "      <th id=\"T_a4bd1_level0_row8\" class=\"row_heading level0 row8\" >svm</th>\n",
       "      <td id=\"T_a4bd1_row8_col0\" class=\"data row8 col0\" >SVM - Linear Kernel</td>\n",
       "      <td id=\"T_a4bd1_row8_col1\" class=\"data row8 col1\" >0.8453</td>\n",
       "      <td id=\"T_a4bd1_row8_col2\" class=\"data row8 col2\" >0.0000</td>\n",
       "      <td id=\"T_a4bd1_row8_col3\" class=\"data row8 col3\" >0.4386</td>\n",
       "      <td id=\"T_a4bd1_row8_col4\" class=\"data row8 col4\" >0.5778</td>\n",
       "      <td id=\"T_a4bd1_row8_col5\" class=\"data row8 col5\" >0.4686</td>\n",
       "      <td id=\"T_a4bd1_row8_col6\" class=\"data row8 col6\" >0.3848</td>\n",
       "      <td id=\"T_a4bd1_row8_col7\" class=\"data row8 col7\" >0.4038</td>\n",
       "      <td id=\"T_a4bd1_row8_col8\" class=\"data row8 col8\" >0.0130</td>\n",
       "    </tr>\n",
       "    <tr>\n",
       "      <th id=\"T_a4bd1_level0_row9\" class=\"row_heading level0 row9\" >knn</th>\n",
       "      <td id=\"T_a4bd1_row9_col0\" class=\"data row9 col0\" >K Neighbors Classifier</td>\n",
       "      <td id=\"T_a4bd1_row9_col1\" class=\"data row9 col1\" >0.8414</td>\n",
       "      <td id=\"T_a4bd1_row9_col2\" class=\"data row9 col2\" >0.6580</td>\n",
       "      <td id=\"T_a4bd1_row9_col3\" class=\"data row9 col3\" >0.1151</td>\n",
       "      <td id=\"T_a4bd1_row9_col4\" class=\"data row9 col4\" >0.5350</td>\n",
       "      <td id=\"T_a4bd1_row9_col5\" class=\"data row9 col5\" >0.1868</td>\n",
       "      <td id=\"T_a4bd1_row9_col6\" class=\"data row9 col6\" >0.1398</td>\n",
       "      <td id=\"T_a4bd1_row9_col7\" class=\"data row9 col7\" >0.1912</td>\n",
       "      <td id=\"T_a4bd1_row9_col8\" class=\"data row9 col8\" >0.3400</td>\n",
       "    </tr>\n",
       "    <tr>\n",
       "      <th id=\"T_a4bd1_level0_row10\" class=\"row_heading level0 row10\" >dt</th>\n",
       "      <td id=\"T_a4bd1_row10_col0\" class=\"data row10 col0\" >Decision Tree Classifier</td>\n",
       "      <td id=\"T_a4bd1_row10_col1\" class=\"data row10 col1\" >0.7840</td>\n",
       "      <td id=\"T_a4bd1_row10_col2\" class=\"data row10 col2\" >0.5993</td>\n",
       "      <td id=\"T_a4bd1_row10_col3\" class=\"data row10 col3\" >0.3261</td>\n",
       "      <td id=\"T_a4bd1_row10_col4\" class=\"data row10 col4\" >0.3349</td>\n",
       "      <td id=\"T_a4bd1_row10_col5\" class=\"data row10 col5\" >0.3207</td>\n",
       "      <td id=\"T_a4bd1_row10_col6\" class=\"data row10 col6\" >0.1956</td>\n",
       "      <td id=\"T_a4bd1_row10_col7\" class=\"data row10 col7\" >0.2004</td>\n",
       "      <td id=\"T_a4bd1_row10_col8\" class=\"data row10 col8\" >0.0140</td>\n",
       "    </tr>\n",
       "    <tr>\n",
       "      <th id=\"T_a4bd1_level0_row11\" class=\"row_heading level0 row11\" >nb</th>\n",
       "      <td id=\"T_a4bd1_row11_col0\" class=\"data row11 col0\" >Naive Bayes</td>\n",
       "      <td id=\"T_a4bd1_row11_col1\" class=\"data row11 col1\" >0.7500</td>\n",
       "      <td id=\"T_a4bd1_row11_col2\" class=\"data row11 col2\" >0.7588</td>\n",
       "      <td id=\"T_a4bd1_row11_col3\" class=\"data row11 col3\" >0.6820</td>\n",
       "      <td id=\"T_a4bd1_row11_col4\" class=\"data row11 col4\" >0.3640</td>\n",
       "      <td id=\"T_a4bd1_row11_col5\" class=\"data row11 col5\" >0.4724</td>\n",
       "      <td id=\"T_a4bd1_row11_col6\" class=\"data row11 col6\" >0.3304</td>\n",
       "      <td id=\"T_a4bd1_row11_col7\" class=\"data row11 col7\" >0.3584</td>\n",
       "      <td id=\"T_a4bd1_row11_col8\" class=\"data row11 col8\" >0.0130</td>\n",
       "    </tr>\n",
       "    <tr>\n",
       "      <th id=\"T_a4bd1_level0_row12\" class=\"row_heading level0 row12\" >qda</th>\n",
       "      <td id=\"T_a4bd1_row12_col0\" class=\"data row12 col0\" >Quadratic Discriminant Analysis</td>\n",
       "      <td id=\"T_a4bd1_row12_col1\" class=\"data row12 col1\" >0.3619</td>\n",
       "      <td id=\"T_a4bd1_row12_col2\" class=\"data row12 col2\" >0.6538</td>\n",
       "      <td id=\"T_a4bd1_row12_col3\" class=\"data row12 col3\" >0.8610</td>\n",
       "      <td id=\"T_a4bd1_row12_col4\" class=\"data row12 col4\" >0.1845</td>\n",
       "      <td id=\"T_a4bd1_row12_col5\" class=\"data row12 col5\" >0.3034</td>\n",
       "      <td id=\"T_a4bd1_row12_col6\" class=\"data row12 col6\" >0.0515</td>\n",
       "      <td id=\"T_a4bd1_row12_col7\" class=\"data row12 col7\" >0.1123</td>\n",
       "      <td id=\"T_a4bd1_row12_col8\" class=\"data row12 col8\" >0.0120</td>\n",
       "    </tr>\n",
       "  </tbody>\n",
       "</table>\n"
      ],
      "text/plain": [
       "<pandas.io.formats.style.Styler at 0x1585de2d040>"
      ]
     },
     "metadata": {},
     "output_type": "display_data"
    }
   ],
   "source": [
    "best = compare_models()"
   ]
  },
  {
   "cell_type": "markdown",
   "id": "0a04f044",
   "metadata": {},
   "source": [
    "Linear discriminant analysis and logistic regression have the best results, which are comparable to those from the manual logistic regression from part 1."
   ]
  },
  {
   "cell_type": "code",
   "execution_count": 26,
   "id": "86e767aa",
   "metadata": {},
   "outputs": [
    {
     "data": {
      "application/vnd.jupyter.widget-view+json": {
       "model_id": "f11e063a04c84ac1be7f9bf7a479d9ff",
       "version_major": 2,
       "version_minor": 0
      },
      "text/plain": [
       "interactive(children=(ToggleButtons(description='Plot Type:', icons=('',), options=(('Hyperparameters', 'param…"
      ]
     },
     "metadata": {},
     "output_type": "display_data"
    }
   ],
   "source": [
    "evaluate_model(best)"
   ]
  },
  {
   "cell_type": "code",
   "execution_count": 27,
   "id": "ff8a3bc9",
   "metadata": {},
   "outputs": [
    {
     "data": {
      "application/vnd.jupyter.widget-view+json": {
       "model_id": "d06b04b8e8e743a6a5a39fd909cb89b6",
       "version_major": 2,
       "version_minor": 0
      },
      "text/plain": [
       "interactive(children=(ToggleButtons(description='Plot Type:', icons=('',), options=(('Hyperparameters', 'param…"
      ]
     },
     "metadata": {},
     "output_type": "display_data"
    }
   ],
   "source": [
    "evaluate_model(best)"
   ]
  },
  {
   "cell_type": "markdown",
   "id": "c5c5e2fb",
   "metadata": {},
   "source": [
    "There is decent overlap in feature importance between the LDA model and the manual logistic regression model from part 1, though it appears the feature importance chart here doesn't consider features that are strongly negatively correlated with attrition such as survey response scores (e.g., work-life balance, job involvement)."
   ]
  },
  {
   "cell_type": "markdown",
   "id": "f8d14195",
   "metadata": {},
   "source": [
    "# Part 4: Analysis of models"
   ]
  },
  {
   "cell_type": "markdown",
   "id": "109a665c",
   "metadata": {},
   "source": [
    "Based on the manual models (logistic and random forest) and the more comprehensive pycaret analysis, it appears there is no model that can yield both high recall and high precision.  I believe this is a product of attrition being potentially driven by many factors, including factors beyond the information available in the database.\n",
    "\n",
    "For example, high performers may not have anything particularly negative to say in employee surveys, may not be in a department with particularly high turnover, may be paid well, etc. but could be poached for a better opportunity nonetheless.  Life events such as relocation, career shifts, going back to school, etc. may drive attrition but not be reflected in the available data (except in a correlative capacity with other variables such as job role, e.g. perhaps certain jobs are common to have between undergraduate and graduate school).\n",
    "\n",
    "So, in sum, this dataset is too limited to be able to achieve high recall with predicting turnover, which is driven by so many other factors. But, it is encouraging that it can achieve high precision, i.e. if the model predicts a flight risk, we can be confident that there is likely a real risk there and respond appropriately (e.g., retentive measures, succession planning), perhaps after cross-checking the modeled prediction with other context (e.g., insights from the individual's manager).\n",
    "\n",
    "Additionally, just because an employee had not left at the time the database was effective, doesn't preclude the possibility they left shortly thereafter, so the amount of error on a false positive may not be a true binary amount but rather be a sliding scale based on the timing of future attrition."
   ]
  },
  {
   "cell_type": "code",
   "execution_count": null,
   "id": "ce13dce0",
   "metadata": {},
   "outputs": [],
   "source": []
  }
 ],
 "metadata": {
  "kernelspec": {
   "display_name": "Python 3 (ipykernel)",
   "language": "python",
   "name": "python3"
  },
  "language_info": {
   "codemirror_mode": {
    "name": "ipython",
    "version": 3
   },
   "file_extension": ".py",
   "mimetype": "text/x-python",
   "name": "python",
   "nbconvert_exporter": "python",
   "pygments_lexer": "ipython3",
   "version": "3.9.7"
  }
 },
 "nbformat": 4,
 "nbformat_minor": 5
}
