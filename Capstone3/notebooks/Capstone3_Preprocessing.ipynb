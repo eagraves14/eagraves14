{
 "cells": [
  {
   "cell_type": "code",
   "execution_count": 1,
   "id": "b846e0ca",
   "metadata": {},
   "outputs": [],
   "source": [
    "import os\n",
    "import pandas as pd\n",
    "from IPython.display import display\n",
    "import numpy as np\n",
    "\n",
    "pd.options.display.max_columns = None\n",
    "data = pd.read_csv('../data/interim/data_post_EDA.csv')"
   ]
  },
  {
   "cell_type": "code",
   "execution_count": 2,
   "id": "1d032db6",
   "metadata": {},
   "outputs": [
    {
     "name": "stdout",
     "output_type": "stream",
     "text": [
      "(10294, 94)\n"
     ]
    }
   ],
   "source": [
    "print(data.shape)"
   ]
  },
  {
   "cell_type": "code",
   "execution_count": 3,
   "id": "85a51bf8",
   "metadata": {},
   "outputs": [
    {
     "name": "stdout",
     "output_type": "stream",
     "text": [
      "<class 'pandas.core.frame.DataFrame'>\n",
      "RangeIndex: 10294 entries, 0 to 10293\n",
      "Data columns (total 94 columns):\n",
      " #   Column                       Non-Null Count  Dtype  \n",
      "---  ------                       --------------  -----  \n",
      " 0   ResponseID                   10294 non-null  int64  \n",
      " 1   ResponseName                 10294 non-null  object \n",
      " 2   ReleaseDate                  9960 non-null   object \n",
      " 3   RequiredAge                  10294 non-null  int64  \n",
      " 4   DemoCount                    10294 non-null  int64  \n",
      " 5   DeveloperCount               10240 non-null  float64\n",
      " 6   DLCCount                     10294 non-null  int64  \n",
      " 7   Metacritic                   2166 non-null   float64\n",
      " 8   MovieCount                   10294 non-null  int64  \n",
      " 9   PackageCount                 10294 non-null  int64  \n",
      " 10  RecommendationCount          10294 non-null  int64  \n",
      " 11  PublisherCount               10214 non-null  float64\n",
      " 12  ScreenshotCount              10294 non-null  int64  \n",
      " 13  SteamSpyOwners               10294 non-null  float64\n",
      " 14  SteamSpyOwnersVariance       10294 non-null  float64\n",
      " 15  SteamSpyPlayersEstimate      10052 non-null  float64\n",
      " 16  SteamSpyPlayersVariance      10052 non-null  float64\n",
      " 17  AchievementCount             10294 non-null  int64  \n",
      " 18  AchievementHighlightedCount  10294 non-null  int64  \n",
      " 19  ControllerSupport            10294 non-null  bool   \n",
      " 20  IsFree                       10294 non-null  bool   \n",
      " 21  FreeVerAvail                 10294 non-null  bool   \n",
      " 22  PurchaseAvail                10294 non-null  bool   \n",
      " 23  SubscriptionAvail            10294 non-null  bool   \n",
      " 24  PlatformWindows              10294 non-null  bool   \n",
      " 25  PlatformLinux                10294 non-null  bool   \n",
      " 26  PlatformMac                  10294 non-null  bool   \n",
      " 27  PCReqsHaveMin                10294 non-null  bool   \n",
      " 28  PCReqsHaveRec                10294 non-null  bool   \n",
      " 29  LinuxReqsHaveMin             10294 non-null  bool   \n",
      " 30  LinuxReqsHaveRec             10294 non-null  bool   \n",
      " 31  MacReqsHaveMin               10294 non-null  bool   \n",
      " 32  MacReqsHaveRec               10294 non-null  bool   \n",
      " 33  CategorySinglePlayer         10294 non-null  bool   \n",
      " 34  CategoryMultiplayer          10294 non-null  bool   \n",
      " 35  CategoryCoop                 10294 non-null  bool   \n",
      " 36  CategoryMMO                  10294 non-null  bool   \n",
      " 37  CategoryInAppPurchase        10294 non-null  bool   \n",
      " 38  CategoryIncludeSrcSDK        10294 non-null  bool   \n",
      " 39  CategoryIncludeLevelEditor   10294 non-null  bool   \n",
      " 40  CategoryVRSupport            10294 non-null  bool   \n",
      " 41  GenreIsIndie                 10294 non-null  bool   \n",
      " 42  GenreIsAction                10294 non-null  bool   \n",
      " 43  GenreIsAdventure             10294 non-null  bool   \n",
      " 44  GenreIsCasual                10294 non-null  bool   \n",
      " 45  GenreIsStrategy              10294 non-null  bool   \n",
      " 46  GenreIsRPG                   10294 non-null  bool   \n",
      " 47  GenreIsSimulation            10294 non-null  bool   \n",
      " 48  GenreIsEarlyAccess           10294 non-null  bool   \n",
      " 49  GenreIsFreeToPlay            10294 non-null  bool   \n",
      " 50  GenreIsSports                10294 non-null  bool   \n",
      " 51  GenreIsRacing                10294 non-null  bool   \n",
      " 52  GenreIsMassivelyMultiplayer  10294 non-null  bool   \n",
      " 53  PriceInitial                 10294 non-null  float64\n",
      " 54  PriceFinal                   10294 non-null  float64\n",
      " 55  AboutText                    10294 non-null  object \n",
      " 56  Background                   10294 non-null  object \n",
      " 57  ShortDescrip                 10294 non-null  object \n",
      " 58  DetailedDescrip              10294 non-null  object \n",
      " 59  DRMNotice                    10294 non-null  object \n",
      " 60  ExtUserAcctNotice            10294 non-null  object \n",
      " 61  HeaderImage                  10294 non-null  object \n",
      " 62  LegalNotice                  10293 non-null  object \n",
      " 63  Reviews                      10294 non-null  object \n",
      " 64  Website                      10294 non-null  object \n",
      " 65  NumGenres                    10294 non-null  int64  \n",
      " 66  English                      10294 non-null  bool   \n",
      " 67  German                       10294 non-null  bool   \n",
      " 68  French                       10294 non-null  bool   \n",
      " 69  Spanish                      10294 non-null  bool   \n",
      " 70  Italian                      10294 non-null  bool   \n",
      " 71  Russian                      10294 non-null  bool   \n",
      " 72  Japanese                     10294 non-null  bool   \n",
      " 73  Polish                       10294 non-null  bool   \n",
      " 74  Portuguese                   10294 non-null  bool   \n",
      " 75  Chinese                      10294 non-null  bool   \n",
      " 76  Dutch                        10294 non-null  bool   \n",
      " 77  Korean                       10294 non-null  bool   \n",
      " 78  Czech                        10294 non-null  bool   \n",
      " 79  Turkish                      10294 non-null  bool   \n",
      " 80  Swedish                      10294 non-null  bool   \n",
      " 81  Hungarian                    10294 non-null  bool   \n",
      " 82  Danish                       10294 non-null  bool   \n",
      " 83  Norwegian                    10294 non-null  bool   \n",
      " 84  Finnish                      10294 non-null  bool   \n",
      " 85  Ukrainian                    10294 non-null  bool   \n",
      " 86  Greek                        10294 non-null  bool   \n",
      " 87  Romanian                     10294 non-null  bool   \n",
      " 88  Arabic                       10294 non-null  bool   \n",
      " 89  Thai                         10294 non-null  bool   \n",
      " 90  Bulgarian                    10294 non-null  bool   \n",
      " 91  Slovakian                    10294 non-null  bool   \n",
      " 92  NumLanguages                 10294 non-null  int64  \n",
      " 93  CombinedGenre                10294 non-null  object \n",
      "dtypes: bool(60), float64(9), int64(12), object(13)\n",
      "memory usage: 3.3+ MB\n",
      "None\n"
     ]
    }
   ],
   "source": [
    "print(data.info())"
   ]
  },
  {
   "cell_type": "code",
   "execution_count": 4,
   "id": "0bc65e08",
   "metadata": {},
   "outputs": [
    {
     "name": "stdout",
     "output_type": "stream",
     "text": [
      "ReleaseDate                 334\n",
      "DeveloperCount               54\n",
      "Metacritic                 8128\n",
      "PublisherCount               80\n",
      "SteamSpyPlayersEstimate     242\n",
      "SteamSpyPlayersVariance     242\n",
      "LegalNotice                   1\n",
      "dtype: int64\n"
     ]
    }
   ],
   "source": [
    "nullcounts = data.isnull().sum()\n",
    "hasnulls = nullcounts[nullcounts>0]\n",
    "print(hasnulls)"
   ]
  },
  {
   "cell_type": "code",
   "execution_count": 5,
   "id": "30cce5e3",
   "metadata": {},
   "outputs": [
    {
     "name": "stdout",
     "output_type": "stream",
     "text": [
      "['DeveloperCount', 'Metacritic', 'PublisherCount', 'SteamSpyPlayersEstimate', 'SteamSpyPlayersVariance', 'LegalNotice']\n"
     ]
    }
   ],
   "source": [
    "nancols = list(hasnulls.index)\n",
    "nancols.remove('ReleaseDate')\n",
    "print(nancols)"
   ]
  },
  {
   "cell_type": "code",
   "execution_count": 8,
   "id": "5c4632bc",
   "metadata": {},
   "outputs": [],
   "source": [
    "#change all null values to None since None more compatible with Tableau\n",
    "data[nancols] = data[nancols].replace({np.nan:None})\n",
    "data['ReleaseDate'] = data['ReleaseDate'].replace({np.datetime64('NaT'):None})"
   ]
  },
  {
   "cell_type": "code",
   "execution_count": 11,
   "id": "33e8b050",
   "metadata": {},
   "outputs": [
    {
     "name": "stdout",
     "output_type": "stream",
     "text": [
      "<class 'pandas.core.frame.DataFrame'>\n",
      "RangeIndex: 10294 entries, 0 to 10293\n",
      "Data columns (total 94 columns):\n",
      " #   Column                       Non-Null Count  Dtype  \n",
      "---  ------                       --------------  -----  \n",
      " 0   ResponseID                   10294 non-null  int64  \n",
      " 1   ResponseName                 10294 non-null  object \n",
      " 2   ReleaseDate                  9960 non-null   object \n",
      " 3   RequiredAge                  10294 non-null  int64  \n",
      " 4   DemoCount                    10294 non-null  int64  \n",
      " 5   DeveloperCount               10240 non-null  object \n",
      " 6   DLCCount                     10294 non-null  int64  \n",
      " 7   Metacritic                   2166 non-null   object \n",
      " 8   MovieCount                   10294 non-null  int64  \n",
      " 9   PackageCount                 10294 non-null  int64  \n",
      " 10  RecommendationCount          10294 non-null  int64  \n",
      " 11  PublisherCount               10214 non-null  object \n",
      " 12  ScreenshotCount              10294 non-null  int64  \n",
      " 13  SteamSpyOwners               10294 non-null  float64\n",
      " 14  SteamSpyOwnersVariance       10294 non-null  float64\n",
      " 15  SteamSpyPlayersEstimate      10052 non-null  object \n",
      " 16  SteamSpyPlayersVariance      10052 non-null  object \n",
      " 17  AchievementCount             10294 non-null  int64  \n",
      " 18  AchievementHighlightedCount  10294 non-null  int64  \n",
      " 19  ControllerSupport            10294 non-null  bool   \n",
      " 20  IsFree                       10294 non-null  bool   \n",
      " 21  FreeVerAvail                 10294 non-null  bool   \n",
      " 22  PurchaseAvail                10294 non-null  bool   \n",
      " 23  SubscriptionAvail            10294 non-null  bool   \n",
      " 24  PlatformWindows              10294 non-null  bool   \n",
      " 25  PlatformLinux                10294 non-null  bool   \n",
      " 26  PlatformMac                  10294 non-null  bool   \n",
      " 27  PCReqsHaveMin                10294 non-null  bool   \n",
      " 28  PCReqsHaveRec                10294 non-null  bool   \n",
      " 29  LinuxReqsHaveMin             10294 non-null  bool   \n",
      " 30  LinuxReqsHaveRec             10294 non-null  bool   \n",
      " 31  MacReqsHaveMin               10294 non-null  bool   \n",
      " 32  MacReqsHaveRec               10294 non-null  bool   \n",
      " 33  CategorySinglePlayer         10294 non-null  bool   \n",
      " 34  CategoryMultiplayer          10294 non-null  bool   \n",
      " 35  CategoryCoop                 10294 non-null  bool   \n",
      " 36  CategoryMMO                  10294 non-null  bool   \n",
      " 37  CategoryInAppPurchase        10294 non-null  bool   \n",
      " 38  CategoryIncludeSrcSDK        10294 non-null  bool   \n",
      " 39  CategoryIncludeLevelEditor   10294 non-null  bool   \n",
      " 40  CategoryVRSupport            10294 non-null  bool   \n",
      " 41  GenreIsIndie                 10294 non-null  bool   \n",
      " 42  GenreIsAction                10294 non-null  bool   \n",
      " 43  GenreIsAdventure             10294 non-null  bool   \n",
      " 44  GenreIsCasual                10294 non-null  bool   \n",
      " 45  GenreIsStrategy              10294 non-null  bool   \n",
      " 46  GenreIsRPG                   10294 non-null  bool   \n",
      " 47  GenreIsSimulation            10294 non-null  bool   \n",
      " 48  GenreIsEarlyAccess           10294 non-null  bool   \n",
      " 49  GenreIsFreeToPlay            10294 non-null  bool   \n",
      " 50  GenreIsSports                10294 non-null  bool   \n",
      " 51  GenreIsRacing                10294 non-null  bool   \n",
      " 52  GenreIsMassivelyMultiplayer  10294 non-null  bool   \n",
      " 53  PriceInitial                 10294 non-null  float64\n",
      " 54  PriceFinal                   10294 non-null  float64\n",
      " 55  AboutText                    10294 non-null  object \n",
      " 56  Background                   10294 non-null  object \n",
      " 57  ShortDescrip                 10294 non-null  object \n",
      " 58  DetailedDescrip              10294 non-null  object \n",
      " 59  DRMNotice                    10294 non-null  object \n",
      " 60  ExtUserAcctNotice            10294 non-null  object \n",
      " 61  HeaderImage                  10294 non-null  object \n",
      " 62  LegalNotice                  10293 non-null  object \n",
      " 63  Reviews                      10294 non-null  object \n",
      " 64  Website                      10294 non-null  object \n",
      " 65  NumGenres                    10294 non-null  int64  \n",
      " 66  English                      10294 non-null  bool   \n",
      " 67  German                       10294 non-null  bool   \n",
      " 68  French                       10294 non-null  bool   \n",
      " 69  Spanish                      10294 non-null  bool   \n",
      " 70  Italian                      10294 non-null  bool   \n",
      " 71  Russian                      10294 non-null  bool   \n",
      " 72  Japanese                     10294 non-null  bool   \n",
      " 73  Polish                       10294 non-null  bool   \n",
      " 74  Portuguese                   10294 non-null  bool   \n",
      " 75  Chinese                      10294 non-null  bool   \n",
      " 76  Dutch                        10294 non-null  bool   \n",
      " 77  Korean                       10294 non-null  bool   \n",
      " 78  Czech                        10294 non-null  bool   \n",
      " 79  Turkish                      10294 non-null  bool   \n",
      " 80  Swedish                      10294 non-null  bool   \n",
      " 81  Hungarian                    10294 non-null  bool   \n",
      " 82  Danish                       10294 non-null  bool   \n",
      " 83  Norwegian                    10294 non-null  bool   \n",
      " 84  Finnish                      10294 non-null  bool   \n",
      " 85  Ukrainian                    10294 non-null  bool   \n",
      " 86  Greek                        10294 non-null  bool   \n",
      " 87  Romanian                     10294 non-null  bool   \n",
      " 88  Arabic                       10294 non-null  bool   \n",
      " 89  Thai                         10294 non-null  bool   \n",
      " 90  Bulgarian                    10294 non-null  bool   \n",
      " 91  Slovakian                    10294 non-null  bool   \n",
      " 92  NumLanguages                 10294 non-null  int64  \n",
      " 93  CombinedGenre                10294 non-null  object \n",
      "dtypes: bool(60), float64(4), int64(12), object(18)\n",
      "memory usage: 3.3+ MB\n",
      "None\n"
     ]
    }
   ],
   "source": [
    "print(data.info())"
   ]
  },
  {
   "cell_type": "code",
   "execution_count": 29,
   "id": "aedf4687",
   "metadata": {},
   "outputs": [
    {
     "name": "stdout",
     "output_type": "stream",
     "text": [
      "(10294, 94)\n"
     ]
    }
   ],
   "source": [
    "print(data.shape)\n",
    "data.to_csv('../data/processed/data_for_Tableau.csv')"
   ]
  },
  {
   "cell_type": "code",
   "execution_count": null,
   "id": "125981d6",
   "metadata": {},
   "outputs": [],
   "source": []
  }
 ],
 "metadata": {
  "kernelspec": {
   "display_name": "Python 3 (ipykernel)",
   "language": "python",
   "name": "python3"
  },
  "language_info": {
   "codemirror_mode": {
    "name": "ipython",
    "version": 3
   },
   "file_extension": ".py",
   "mimetype": "text/x-python",
   "name": "python",
   "nbconvert_exporter": "python",
   "pygments_lexer": "ipython3",
   "version": "3.9.7"
  }
 },
 "nbformat": 4,
 "nbformat_minor": 5
}
